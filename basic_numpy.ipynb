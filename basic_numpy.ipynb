{
  "nbformat": 4,
  "nbformat_minor": 0,
  "metadata": {
    "kernelspec": {
      "display_name": "Python 3",
      "language": "python",
      "name": "python3"
    },
    "language_info": {
      "codemirror_mode": {
        "name": "ipython",
        "version": 3
      },
      "file_extension": ".py",
      "mimetype": "text/x-python",
      "name": "python",
      "nbconvert_exporter": "python",
      "pygments_lexer": "ipython3",
      "version": "3.6.8"
    },
    "colab": {
      "name": "Copie de basic_numpy.ipynb",
      "provenance": [],
      "collapsed_sections": []
    }
  },
  "cells": [
    {
      "cell_type": "markdown",
      "metadata": {
        "id": "5Q5dUOXPJI3v"
      },
      "source": [
        "<h1 style=\"text-align: center\"> Basic Python for Machine Learning </h1>\n",
        "<h1 style=\"text-align: center\"> (Part 2)</h1>"
      ]
    },
    {
      "cell_type": "markdown",
      "metadata": {
        "id": "e7n6GYiLJI3z"
      },
      "source": [
        "In this second part, we will use CSV file format (https://en.wikipedia.org/wiki/Comma-separated_values). You  first need to understand some basic things about this format, e.g. file header, comments, delimiter, quotes, etc. We will use a dataset to demonstrate how to prepare data for machine learning.  The data is freely available from the UCI Machine Learning Repository  ( https://archive.ics.uci.edu/ml/datasets.php ).   "
      ]
    },
    {
      "cell_type": "markdown",
      "metadata": {
        "id": "AlvCcG6uJI30"
      },
      "source": [
        "# 1. The Numpy Library\n",
        "\n",
        "Numpy is the **fundamental package for scientific computing in Python**. It provides support for **large multi-dimensional arrays** and also **high level mathematical functions** to operate on these arrays. (You can play with this library to do deeplearning but NumPy is not the best choice). Nevertheless, most scientific libs rely on NumPy conventions and APIs so it is important to have some knowledges about it.\n",
        "\n",
        "For more detail about Numpy, please refer to the official documentation available at https://numpy.org"
      ]
    },
    {
      "cell_type": "markdown",
      "metadata": {
        "id": "W1MXc5whJI32"
      },
      "source": [
        "To start, we first need to import numpy in Python and check the version\n",
        "\n",
        "---\n",
        "---\n",
        "\n"
      ]
    },
    {
      "cell_type": "code",
      "metadata": {
        "id": "hSdV29d9JI33",
        "colab": {
          "base_uri": "https://localhost:8080/"
        },
        "outputId": "5ab043be-db19-4d6b-bc15-7846eac078c2"
      },
      "source": [
        "import numpy as np\n",
        "print(\"numpy: \" +np.version.version)"
      ],
      "execution_count": 1,
      "outputs": [
        {
          "output_type": "stream",
          "name": "stdout",
          "text": [
            "numpy: 1.19.5\n"
          ]
        }
      ]
    },
    {
      "cell_type": "markdown",
      "metadata": {
        "id": "ef__u-A_JI37"
      },
      "source": [
        "## 1.2. The ndarray class"
      ]
    },
    {
      "cell_type": "markdown",
      "metadata": {
        "id": "m1VQI3WSJI38"
      },
      "source": [
        "The fundamental class of NumPy is ndarray. It represents table of items, with the following constraints:\n",
        "\n",
        "• It is multidimensional(1d,2d,3d,...,nd),\n",
        "\n",
        "• It is homogeneous,i.e, all items inside the table should belong to the same type.\n",
        "\n",
        "NumPy provides the foundation data structures and operations for SciPy. These are ndarrays that are efficient arrays and easy to define and manipulate. "
      ]
    },
    {
      "cell_type": "code",
      "metadata": {
        "id": "3FOmg-b8JI39",
        "colab": {
          "base_uri": "https://localhost:8080/"
        },
        "outputId": "b3791e6b-3347-4974-b8ce-1ce9b0c5f5af"
      },
      "source": [
        "# define an array\n",
        "a = np.arange(1,4)\n",
        "a"
      ],
      "execution_count": null,
      "outputs": [
        {
          "output_type": "execute_result",
          "data": {
            "text/plain": [
              "array([1, 2, 3])"
            ]
          },
          "metadata": {},
          "execution_count": 8
        }
      ]
    },
    {
      "cell_type": "code",
      "metadata": {
        "id": "8rGHgH6oewlC"
      },
      "source": [
        "b=np.arange(4,7)\n"
      ],
      "execution_count": null,
      "outputs": []
    },
    {
      "cell_type": "code",
      "metadata": {
        "id": "6It6iWdoJI3_",
        "colab": {
          "base_uri": "https://localhost:8080/"
        },
        "outputId": "d8af9e0d-3a67-450e-ae47-bc29da40aa6b"
      },
      "source": [
        "# create a multi-dimensional array.\n",
        "c = np.array([a,b])\n",
        "c"
      ],
      "execution_count": null,
      "outputs": [
        {
          "output_type": "execute_result",
          "data": {
            "text/plain": [
              "array([[1, 2, 3],\n",
              "       [4, 5, 6]])"
            ]
          },
          "metadata": {},
          "execution_count": 10
        }
      ]
    },
    {
      "cell_type": "code",
      "metadata": {
        "id": "wRl6CE--JI4C",
        "colab": {
          "base_uri": "https://localhost:8080/"
        },
        "outputId": "98ec91dc-0d85-441a-cc95-bf9b9de2f48c"
      },
      "source": [
        "# Type of a\n",
        "type(c)"
      ],
      "execution_count": null,
      "outputs": [
        {
          "output_type": "execute_result",
          "data": {
            "text/plain": [
              "numpy.ndarray"
            ]
          },
          "metadata": {},
          "execution_count": 11
        }
      ]
    },
    {
      "cell_type": "code",
      "metadata": {
        "id": "sSV1rhnnJI4E",
        "colab": {
          "base_uri": "https://localhost:8080/"
        },
        "outputId": "2f314a1d-4a57-429b-c379-615f0bd1e2a3"
      },
      "source": [
        "#Check the shape (rows and columns of the array).\n",
        "c.shape"
      ],
      "execution_count": null,
      "outputs": [
        {
          "output_type": "execute_result",
          "data": {
            "text/plain": [
              "(2, 3)"
            ]
          },
          "metadata": {},
          "execution_count": 12
        }
      ]
    },
    {
      "cell_type": "code",
      "metadata": {
        "id": "NACg9wkpJI4F",
        "colab": {
          "base_uri": "https://localhost:8080/"
        },
        "outputId": "e4747295-0c9b-4d81-d0ef-efa8095e00bc"
      },
      "source": [
        "# 'Rank' as mention in NumPy doc or number of dimensions\n",
        "c.ndim"
      ],
      "execution_count": null,
      "outputs": [
        {
          "output_type": "execute_result",
          "data": {
            "text/plain": [
              "2"
            ]
          },
          "metadata": {},
          "execution_count": 13
        }
      ]
    },
    {
      "cell_type": "code",
      "metadata": {
        "id": "0oY9NXfYJI4H",
        "colab": {
          "base_uri": "https://localhost:8080/"
        },
        "outputId": "264e5013-1e66-448f-91d2-761772641d07"
      },
      "source": [
        "# Total number of items\n",
        "c.size"
      ],
      "execution_count": null,
      "outputs": [
        {
          "output_type": "execute_result",
          "data": {
            "text/plain": [
              "6"
            ]
          },
          "metadata": {},
          "execution_count": 14
        }
      ]
    },
    {
      "cell_type": "code",
      "metadata": {
        "id": "I4zU6ib7JI4J",
        "colab": {
          "base_uri": "https://localhost:8080/"
        },
        "outputId": "860a87a0-f305-4b90-c5b5-2d589c93a057"
      },
      "source": [
        "# Item type\n",
        "c.dtype"
      ],
      "execution_count": null,
      "outputs": [
        {
          "output_type": "execute_result",
          "data": {
            "text/plain": [
              "dtype('int64')"
            ]
          },
          "metadata": {},
          "execution_count": 15
        }
      ]
    },
    {
      "cell_type": "code",
      "metadata": {
        "id": "3-cKcsC4JI4K",
        "colab": {
          "base_uri": "https://localhost:8080/"
        },
        "outputId": "098e5470-efe1-4e9b-a6d8-ae9852d4e676"
      },
      "source": [
        "#Actual data of the table\n",
        "c.data"
      ],
      "execution_count": null,
      "outputs": [
        {
          "output_type": "execute_result",
          "data": {
            "text/plain": [
              "<memory at 0x7f5e49ed5590>"
            ]
          },
          "metadata": {},
          "execution_count": 16
        }
      ]
    },
    {
      "cell_type": "code",
      "metadata": {
        "id": "QNRt2IMNJI4L",
        "colab": {
          "base_uri": "https://localhost:8080/"
        },
        "outputId": "776e47f3-4f3c-4e23-fece-97581ca3c643"
      },
      "source": [
        "#Create an evenly spaced array between 1 and 30 with a difference of 2.\n",
        "new_array = np.arange(1,30,2)\n",
        "new_array"
      ],
      "execution_count": null,
      "outputs": [
        {
          "output_type": "execute_result",
          "data": {
            "text/plain": [
              "array([ 1,  3,  5,  7,  9, 11, 13, 15, 17, 19, 21, 23, 25, 27, 29])"
            ]
          },
          "metadata": {},
          "execution_count": 80
        }
      ]
    },
    {
      "cell_type": "code",
      "metadata": {
        "id": "c_ZO6Hk7JI4N",
        "colab": {
          "base_uri": "https://localhost:8080/"
        },
        "outputId": "09c9d24d-6f29-452e-d17f-a7b35704768c"
      },
      "source": [
        "#Reshape the above array into a desired shape.\n",
        "new_array.reshape(5,3)"
      ],
      "execution_count": null,
      "outputs": [
        {
          "output_type": "execute_result",
          "data": {
            "text/plain": [
              "array([[ 1,  3,  5],\n",
              "       [ 7,  9, 11],\n",
              "       [13, 15, 17],\n",
              "       [19, 21, 23],\n",
              "       [25, 27, 29]])"
            ]
          },
          "metadata": {},
          "execution_count": 18
        }
      ]
    },
    {
      "cell_type": "code",
      "metadata": {
        "id": "zrACYGxCJI4O",
        "colab": {
          "base_uri": "https://localhost:8080/"
        },
        "outputId": "0e734703-f7eb-49eb-bdc2-dfec0ddd35cc"
      },
      "source": [
        "# Create an array with all elements as ones.\n",
        "one_array = np.ones([2,2])\n",
        "one_array"
      ],
      "execution_count": null,
      "outputs": [
        {
          "output_type": "execute_result",
          "data": {
            "text/plain": [
              "array([[1., 1.],\n",
              "       [1., 1.]])"
            ]
          },
          "metadata": {},
          "execution_count": 19
        }
      ]
    },
    {
      "cell_type": "code",
      "metadata": {
        "id": "H8h4juCEJI4P",
        "colab": {
          "base_uri": "https://localhost:8080/"
        },
        "outputId": "9de8453e-b53e-4f64-a85b-83c2b8ac8c81"
      },
      "source": [
        "#Create an array filled with zeros. \n",
        "zero_array = np.zeros([3,3])\n",
        "zero_array"
      ],
      "execution_count": null,
      "outputs": [
        {
          "output_type": "execute_result",
          "data": {
            "text/plain": [
              "array([[0., 0., 0.],\n",
              "       [0., 0., 0.],\n",
              "       [0., 0., 0.]])"
            ]
          },
          "metadata": {},
          "execution_count": 20
        }
      ]
    },
    {
      "cell_type": "code",
      "metadata": {
        "id": "rcSHf4NSJI4Q",
        "colab": {
          "base_uri": "https://localhost:8080/"
        },
        "outputId": "dbacb6ff-8ac6-4dd3-feb9-1de1908adc6a"
      },
      "source": [
        "#Create a diagonal matrix with diagonal values = 1\n",
        "new_diago = np.zeros([2,2])\n",
        "np.fill_diagonal(new_diago,new_diago.diagonal() + 1)\n",
        "new_diago"
      ],
      "execution_count": null,
      "outputs": [
        {
          "output_type": "execute_result",
          "data": {
            "text/plain": [
              "array([[1., 0.],\n",
              "       [0., 1.]])"
            ]
          },
          "metadata": {},
          "execution_count": 21
        }
      ]
    },
    {
      "cell_type": "code",
      "metadata": {
        "id": "wOSAsxvdJI4R",
        "colab": {
          "base_uri": "https://localhost:8080/"
        },
        "outputId": "c1d4013f-cffd-46ef-c28f-8aa777bebc7c"
      },
      "source": [
        "#Extract only diagonal values from an array.\n",
        "new_diago.diagonal()"
      ],
      "execution_count": null,
      "outputs": [
        {
          "output_type": "execute_result",
          "data": {
            "text/plain": [
              "array([1., 1.])"
            ]
          },
          "metadata": {},
          "execution_count": 22
        }
      ]
    },
    {
      "cell_type": "code",
      "metadata": {
        "id": "EC7JpAZ9JI4S",
        "colab": {
          "base_uri": "https://localhost:8080/"
        },
        "outputId": "488687a2-4dd6-45f2-ce1d-03e51226790a"
      },
      "source": [
        "new_diago_2 = np.zeros([3,4])\n",
        "np.fill_diagonal(new_diago_2,new_diago_2.diagonal() + 1)\n",
        "new_diago_2"
      ],
      "execution_count": null,
      "outputs": [
        {
          "output_type": "execute_result",
          "data": {
            "text/plain": [
              "array([[1., 0., 0., 0.],\n",
              "       [0., 1., 0., 0.],\n",
              "       [0., 0., 1., 0.]])"
            ]
          },
          "metadata": {},
          "execution_count": 25
        }
      ]
    },
    {
      "cell_type": "code",
      "metadata": {
        "id": "C9B2AK2HJI4T",
        "colab": {
          "base_uri": "https://localhost:8080/"
        },
        "outputId": "48a27466-c62e-47a8-feb5-4176479cabe2"
      },
      "source": [
        "#Generate an evenly spaced list between the interval 1 and 5. \n",
        "#(Take a minute here to understand the difference between ‘linspace’ and ‘arange’)\n",
        "new_array_2 = np.linspace(1, 5, num=20)\n",
        "new_array_2"
      ],
      "execution_count": null,
      "outputs": [
        {
          "output_type": "execute_result",
          "data": {
            "text/plain": [
              "array([1.        , 1.21052632, 1.42105263, 1.63157895, 1.84210526,\n",
              "       2.05263158, 2.26315789, 2.47368421, 2.68421053, 2.89473684,\n",
              "       3.10526316, 3.31578947, 3.52631579, 3.73684211, 3.94736842,\n",
              "       4.15789474, 4.36842105, 4.57894737, 4.78947368, 5.        ])"
            ]
          },
          "metadata": {},
          "execution_count": 33
        }
      ]
    },
    {
      "cell_type": "code",
      "metadata": {
        "id": "_AkCsSPbJI4V",
        "colab": {
          "base_uri": "https://localhost:8080/"
        },
        "outputId": "20417610-80cd-4bfa-ee06-d0f24a3cb9f1"
      },
      "source": [
        "#Generate an evenly spaced list \n",
        "new_array_3 = np.geomspace(10, 100000, num=20)\n",
        "new_array_3"
      ],
      "execution_count": null,
      "outputs": [
        {
          "output_type": "execute_result",
          "data": {
            "text/plain": [
              "array([1.00000000e+01, 1.62377674e+01, 2.63665090e+01, 4.28133240e+01,\n",
              "       6.95192796e+01, 1.12883789e+02, 1.83298071e+02, 2.97635144e+02,\n",
              "       4.83293024e+02, 7.84759970e+02, 1.27427499e+03, 2.06913808e+03,\n",
              "       3.35981829e+03, 5.45559478e+03, 8.85866790e+03, 1.43844989e+04,\n",
              "       2.33572147e+04, 3.79269019e+04, 6.15848211e+04, 1.00000000e+05])"
            ]
          },
          "metadata": {},
          "execution_count": 32
        }
      ]
    },
    {
      "cell_type": "code",
      "metadata": {
        "id": "y43TR-czJI4W",
        "colab": {
          "base_uri": "https://localhost:8080/"
        },
        "outputId": "b80528a2-76ee-4bac-8a64-ef2f4f86adb2"
      },
      "source": [
        "#Now, change the shape of the array in place (‘resize’ function changes the shape of the array in place, \n",
        "#unlike ‘reshape’)\n",
        "new_array_2_reshape = np.reshape(new_array_2,(-1,4))\n",
        "new_array_2_reshape"
      ],
      "execution_count": null,
      "outputs": [
        {
          "output_type": "execute_result",
          "data": {
            "text/plain": [
              "array([[1.        , 1.21052632, 1.42105263, 1.63157895],\n",
              "       [1.84210526, 2.05263158, 2.26315789, 2.47368421],\n",
              "       [2.68421053, 2.89473684, 3.10526316, 3.31578947],\n",
              "       [3.52631579, 3.73684211, 3.94736842, 4.15789474],\n",
              "       [4.36842105, 4.57894737, 4.78947368, 5.        ]])"
            ]
          },
          "metadata": {},
          "execution_count": 39
        }
      ]
    },
    {
      "cell_type": "code",
      "metadata": {
        "id": "y8jMS-OYJI4X",
        "colab": {
          "base_uri": "https://localhost:8080/"
        },
        "outputId": "fa7273e5-380d-4799-c566-cf689f0c57cb"
      },
      "source": [
        "#Create an array consisting of repeating list\n",
        "repeat_array = np.tile([1,2,3],5)\n",
        "repeat_array"
      ],
      "execution_count": null,
      "outputs": [
        {
          "output_type": "execute_result",
          "data": {
            "text/plain": [
              "array([1, 2, 3, 1, 2, 3, 1, 2, 3, 1, 2, 3, 1, 2, 3])"
            ]
          },
          "metadata": {},
          "execution_count": 46
        }
      ]
    },
    {
      "cell_type": "code",
      "metadata": {
        "id": "G2QjyVFqJI4Y",
        "colab": {
          "base_uri": "https://localhost:8080/"
        },
        "outputId": "9ba5c64a-ddc3-4992-bae0-a398992e895c"
      },
      "source": [
        "#Now, repeat each element of array n number of times using repeat function.\n",
        "repeat_array_2 = np.repeat([1,2,3],3)\n",
        "repeat_array_2"
      ],
      "execution_count": null,
      "outputs": [
        {
          "output_type": "execute_result",
          "data": {
            "text/plain": [
              "array([1, 1, 1, 2, 2, 2, 3, 3, 3])"
            ]
          },
          "metadata": {},
          "execution_count": 47
        }
      ]
    },
    {
      "cell_type": "code",
      "metadata": {
        "id": "0mHJJ08uJI4Z",
        "colab": {
          "base_uri": "https://localhost:8080/"
        },
        "outputId": "ef55cfb7-a1f0-43b9-e6d8-ab47f4755d4e"
      },
      "source": [
        "#Generate arrays of desired shape filled with random values between 0 and 1.\n",
        "random_array= np.random.rand(3,4)\n",
        "random_array"
      ],
      "execution_count": null,
      "outputs": [
        {
          "output_type": "execute_result",
          "data": {
            "text/plain": [
              "array([[0.08366865, 0.45090088, 0.14127832, 0.88538094],\n",
              "       [0.46133743, 0.62564014, 0.52828852, 0.72254879],\n",
              "       [0.0917912 , 0.46033073, 0.76162298, 0.89445093]])"
            ]
          },
          "metadata": {},
          "execution_count": 50
        }
      ]
    },
    {
      "cell_type": "code",
      "metadata": {
        "id": "HOaANkR2JI4a",
        "colab": {
          "base_uri": "https://localhost:8080/"
        },
        "outputId": "ce3c56c4-326e-4c95-ca42-6e79b6c8d29f"
      },
      "source": [
        "# !!! shape is given dimension by dimension as arguments not in one tuple\n",
        "rand_n2 = np.random.randn(3,4)\n",
        "rand_n2"
      ],
      "execution_count": null,
      "outputs": [
        {
          "output_type": "execute_result",
          "data": {
            "text/plain": [
              "array([[-0.2640695 , -0.90991832, -0.95561966, -0.23093901],\n",
              "       [ 0.9939839 ,  0.62995271,  0.37020593, -0.17510285],\n",
              "       [ 0.14537516, -1.56048317, -0.40497795, -1.49093615]])"
            ]
          },
          "metadata": {},
          "execution_count": 51
        }
      ]
    },
    {
      "cell_type": "code",
      "metadata": {
        "id": "XeEu6yvaJI4b",
        "colab": {
          "base_uri": "https://localhost:8080/"
        },
        "outputId": "16ffaf29-94cf-4ead-b91d-d883edad1135"
      },
      "source": [
        "#Stack the above two arrays created vertically\n",
        "rand_3 = np.concatenate((random_array,rand_n2),axis=0)\n",
        "rand_3"
      ],
      "execution_count": null,
      "outputs": [
        {
          "output_type": "execute_result",
          "data": {
            "text/plain": [
              "array([[ 0.08366865,  0.45090088,  0.14127832,  0.88538094],\n",
              "       [ 0.46133743,  0.62564014,  0.52828852,  0.72254879],\n",
              "       [ 0.0917912 ,  0.46033073,  0.76162298,  0.89445093],\n",
              "       [-0.2640695 , -0.90991832, -0.95561966, -0.23093901],\n",
              "       [ 0.9939839 ,  0.62995271,  0.37020593, -0.17510285],\n",
              "       [ 0.14537516, -1.56048317, -0.40497795, -1.49093615]])"
            ]
          },
          "metadata": {},
          "execution_count": 56
        }
      ]
    },
    {
      "cell_type": "code",
      "metadata": {
        "id": "wkxnp8QuJI4c",
        "colab": {
          "base_uri": "https://localhost:8080/"
        },
        "outputId": "df515883-1457-4462-a587-80165e17b04b"
      },
      "source": [
        "# stack the above two arrays createdhorizontally.\n",
        "rand_4 = np.concatenate((random_array,rand_n2),axis=1)\n",
        "rand_4"
      ],
      "execution_count": null,
      "outputs": [
        {
          "output_type": "execute_result",
          "data": {
            "text/plain": [
              "array([[ 0.08366865,  0.45090088,  0.14127832,  0.88538094, -0.2640695 ,\n",
              "        -0.90991832, -0.95561966, -0.23093901],\n",
              "       [ 0.46133743,  0.62564014,  0.52828852,  0.72254879,  0.9939839 ,\n",
              "         0.62995271,  0.37020593, -0.17510285],\n",
              "       [ 0.0917912 ,  0.46033073,  0.76162298,  0.89445093,  0.14537516,\n",
              "        -1.56048317, -0.40497795, -1.49093615]])"
            ]
          },
          "metadata": {},
          "execution_count": 57
        }
      ]
    },
    {
      "cell_type": "markdown",
      "metadata": {
        "id": "ho_nyB0JJI4d"
      },
      "source": [
        "## 1.3. Operations"
      ]
    },
    {
      "cell_type": "code",
      "metadata": {
        "id": "--4KuXpJJI4d",
        "colab": {
          "base_uri": "https://localhost:8080/"
        },
        "outputId": "3faf786f-2847-4424-b831-ad0d5723ee03"
      },
      "source": [
        "# randomly create 2 np array \n",
        "rand1= np.random.rand(2,2)\n",
        "rand2= np.random.rand(2,2)\n",
        "print(rand1 , \"\\n\" , rand2)"
      ],
      "execution_count": null,
      "outputs": [
        {
          "output_type": "stream",
          "name": "stdout",
          "text": [
            "[[0.69872638 0.33858868]\n",
            " [0.274603   0.18719013]] \n",
            " [[0.3040998  0.87525292]\n",
            " [0.49760003 0.28290281]]\n"
          ]
        }
      ]
    },
    {
      "cell_type": "code",
      "metadata": {
        "id": "onP1HurdJI4e",
        "colab": {
          "base_uri": "https://localhost:8080/"
        },
        "outputId": "a871c617-c54e-47bf-932f-ab1d5bc721fe"
      },
      "source": [
        "#element-wise addition.\n",
        "rand1+rand2"
      ],
      "execution_count": null,
      "outputs": [
        {
          "output_type": "execute_result",
          "data": {
            "text/plain": [
              "array([[1.00282619, 1.21384161],\n",
              "       [0.77220304, 0.47009295]])"
            ]
          },
          "metadata": {},
          "execution_count": 63
        }
      ]
    },
    {
      "cell_type": "code",
      "metadata": {
        "id": "SnJzeyrMJI4f",
        "colab": {
          "base_uri": "https://localhost:8080/"
        },
        "outputId": "3575219d-2076-45e7-8e35-8fee4514b9af"
      },
      "source": [
        "#Element wise subtraction.\n",
        "rand1-rand2"
      ],
      "execution_count": null,
      "outputs": [
        {
          "output_type": "execute_result",
          "data": {
            "text/plain": [
              "array([[ 0.39462658, -0.53666424],\n",
              "       [-0.22299703, -0.09571268]])"
            ]
          },
          "metadata": {},
          "execution_count": 64
        }
      ]
    },
    {
      "cell_type": "code",
      "metadata": {
        "id": "V6Z5pqUBJI4g",
        "colab": {
          "base_uri": "https://localhost:8080/"
        },
        "outputId": "8331dde3-6e4e-4674-d14e-1c64f1d6590b"
      },
      "source": [
        "#Element wise multiplication \n",
        "rand1*rand2"
      ],
      "execution_count": null,
      "outputs": [
        {
          "output_type": "execute_result",
          "data": {
            "text/plain": [
              "array([[0.21248256, 0.29635073],\n",
              "       [0.13664246, 0.05295661]])"
            ]
          },
          "metadata": {},
          "execution_count": 65
        }
      ]
    },
    {
      "cell_type": "code",
      "metadata": {
        "id": "vbSWKOydJI4h",
        "colab": {
          "base_uri": "https://localhost:8080/"
        },
        "outputId": "6dae2552-1840-441c-face-b5da07254970"
      },
      "source": [
        "#power each element to 2.\n",
        "np.power(rand1,2)"
      ],
      "execution_count": null,
      "outputs": [
        {
          "output_type": "execute_result",
          "data": {
            "text/plain": [
              "array([[0.48821856, 0.1146423 ],\n",
              "       [0.07540681, 0.03504015]])"
            ]
          },
          "metadata": {},
          "execution_count": 66
        }
      ]
    },
    {
      "cell_type": "code",
      "metadata": {
        "id": "o4s9wkIxJI4i",
        "colab": {
          "base_uri": "https://localhost:8080/"
        },
        "outputId": "6bc6cf77-f91c-44d0-bd47-a854e3753fa8"
      },
      "source": [
        "# dot product of the two arrays k and l.\n",
        "np.dot(rand1,rand2)"
      ],
      "execution_count": null,
      "outputs": [
        {
          "output_type": "execute_result",
          "data": {
            "text/plain": [
              "array([[0.3809643 , 0.70735   ],\n",
              "       [0.17665253, 0.29330369]])"
            ]
          },
          "metadata": {},
          "execution_count": 69
        }
      ]
    },
    {
      "cell_type": "code",
      "metadata": {
        "id": "n6AR9InjJI4j",
        "colab": {
          "base_uri": "https://localhost:8080/"
        },
        "outputId": "0fbc04f9-7405-4ab5-9370-cb709661437e"
      },
      "source": [
        "# transpose of a.\n",
        "np.transpose(rand1)"
      ],
      "execution_count": null,
      "outputs": [
        {
          "output_type": "execute_result",
          "data": {
            "text/plain": [
              "array([[0.69872638, 0.274603  ],\n",
              "       [0.33858868, 0.18719013]])"
            ]
          },
          "metadata": {},
          "execution_count": 70
        }
      ]
    },
    {
      "cell_type": "code",
      "metadata": {
        "id": "cQygHpr_JI4k",
        "colab": {
          "base_uri": "https://localhost:8080/"
        },
        "outputId": "ed17edf1-6f97-43b1-a5e4-fa319b030cdc"
      },
      "source": [
        "#datatype of elements in the array.\n",
        "rand1.dtype"
      ],
      "execution_count": null,
      "outputs": [
        {
          "output_type": "execute_result",
          "data": {
            "text/plain": [
              "dtype('float64')"
            ]
          },
          "metadata": {},
          "execution_count": 71
        }
      ]
    },
    {
      "cell_type": "code",
      "metadata": {
        "id": "Hllp_oisJI4l",
        "colab": {
          "base_uri": "https://localhost:8080/"
        },
        "outputId": "7317bcbe-da0a-426f-c0c2-243248b43f03"
      },
      "source": [
        "#Change the datatype of the array.\n",
        "rand1= rand1.astype('float32')\n",
        "rand1.dtype"
      ],
      "execution_count": null,
      "outputs": [
        {
          "output_type": "execute_result",
          "data": {
            "text/plain": [
              "dtype('float32')"
            ]
          },
          "metadata": {},
          "execution_count": 74
        }
      ]
    },
    {
      "cell_type": "code",
      "metadata": {
        "id": "uLp2CTsCJI4l",
        "colab": {
          "base_uri": "https://localhost:8080/"
        },
        "outputId": "6eacb3a3-abd4-4423-8d29-b0c025bb1d06"
      },
      "source": [
        "#some mathematical functions in an array, starting with sum of an array.\n",
        "rand1.sum()"
      ],
      "execution_count": null,
      "outputs": [
        {
          "output_type": "execute_result",
          "data": {
            "text/plain": [
              "1.4991082"
            ]
          },
          "metadata": {},
          "execution_count": 75
        }
      ]
    },
    {
      "cell_type": "code",
      "metadata": {
        "id": "ehl4vV5gJI4n",
        "colab": {
          "base_uri": "https://localhost:8080/"
        },
        "outputId": "a603d398-06d9-4dbe-f05c-9d53263bb90d"
      },
      "source": [
        "#Maximum of the elements of an array.\n",
        "rand1.max()"
      ],
      "execution_count": null,
      "outputs": [
        {
          "output_type": "execute_result",
          "data": {
            "text/plain": [
              "0.69872636"
            ]
          },
          "metadata": {},
          "execution_count": 76
        }
      ]
    },
    {
      "cell_type": "code",
      "metadata": {
        "id": "LAw9aLbKJI4o",
        "colab": {
          "base_uri": "https://localhost:8080/"
        },
        "outputId": "289a8f2a-9e35-48e9-a7f1-dad13631ce28"
      },
      "source": [
        "#Mean of the elements of the array\n",
        "rand1.mean()"
      ],
      "execution_count": null,
      "outputs": [
        {
          "output_type": "execute_result",
          "data": {
            "text/plain": [
              "0.37477705"
            ]
          },
          "metadata": {},
          "execution_count": 78
        }
      ]
    },
    {
      "cell_type": "code",
      "metadata": {
        "id": "KJuQYyFKJI4p",
        "colab": {
          "base_uri": "https://localhost:8080/"
        },
        "outputId": "2c7557d2-e93d-480f-a972-232e9a2b5b8a"
      },
      "source": [
        "#Now, let’s retrieve the index of the maximum value of the array.\n",
        "rand1.argmax()"
      ],
      "execution_count": null,
      "outputs": [
        {
          "output_type": "execute_result",
          "data": {
            "text/plain": [
              "0"
            ]
          },
          "metadata": {},
          "execution_count": 79
        }
      ]
    },
    {
      "cell_type": "code",
      "metadata": {
        "id": "OfdJDfKGJI4q",
        "colab": {
          "base_uri": "https://localhost:8080/",
          "height": 34
        },
        "outputId": "a7ca0a8e-f562-4510-f649-6b7cf29f89cb"
      },
      "source": [
        "d.argmin()"
      ],
      "execution_count": null,
      "outputs": [
        {
          "output_type": "execute_result",
          "data": {
            "text/plain": [
              "0"
            ]
          },
          "metadata": {
            "tags": []
          },
          "execution_count": 39
        }
      ]
    },
    {
      "cell_type": "code",
      "metadata": {
        "id": "O2K2obWjJI4q",
        "colab": {
          "base_uri": "https://localhost:8080/"
        },
        "outputId": "1f9bdafd-f8ee-42a2-958e-9e52fdfedcd8"
      },
      "source": [
        "#Create an array consisting of square of first ten whole numbers.\n",
        "square_array = np.power(np.arange(0,10),2)\n",
        "square_array"
      ],
      "execution_count": null,
      "outputs": [
        {
          "output_type": "execute_result",
          "data": {
            "text/plain": [
              "array([ 0,  1,  4,  9, 16, 25, 36, 49, 64, 81])"
            ]
          },
          "metadata": {},
          "execution_count": 84
        }
      ]
    },
    {
      "cell_type": "code",
      "metadata": {
        "id": "Ngkq9x6gJI4r",
        "colab": {
          "base_uri": "https://localhost:8080/"
        },
        "outputId": "02252ec9-ecf5-47f6-8865-3f1df7b63c0e"
      },
      "source": [
        "# randomly create 2 np array\n",
        "rand1 = np.random.randn(4,3)\n",
        "rand2 = np.random.randn(4,3)\n",
        "print(rand1 , \"\\n\" , rand2)"
      ],
      "execution_count": null,
      "outputs": [
        {
          "output_type": "stream",
          "name": "stdout",
          "text": [
            "[[-0.2191532   0.45300024  1.51761131]\n",
            " [ 0.34074762  0.48883813  0.40802666]\n",
            " [-0.29001823 -0.58529523  0.32833784]\n",
            " [ 0.4924684   0.75322758  1.66320103]] \n",
            " [[-1.44645723  0.38651933  0.11135126]\n",
            " [-1.57051961  1.12149458  0.46519124]\n",
            " [ 1.70265781 -0.17237293 -1.20921193]\n",
            " [-0.6298594  -0.65952506  0.61161276]]\n"
          ]
        }
      ]
    },
    {
      "cell_type": "markdown",
      "metadata": {
        "id": "AU7z1XZMJI4s"
      },
      "source": [
        "If you want to compute an extremum along a particular axis, you should precise axis in argument. As indexing, this reduce the dimension of the array. If you want to keep the same number of dimension, you should set the keepdims argument to True."
      ]
    },
    {
      "cell_type": "code",
      "metadata": {
        "id": "1ZkZYIokJI4s",
        "colab": {
          "base_uri": "https://localhost:8080/"
        },
        "outputId": "f79cd8f3-8abf-4561-ff4a-034b3c7f696a"
      },
      "source": [
        "np.amax(rand1,axis=1)"
      ],
      "execution_count": null,
      "outputs": [
        {
          "output_type": "execute_result",
          "data": {
            "text/plain": [
              "array([1.51761131, 0.48883813, 0.32833784, 1.66320103])"
            ]
          },
          "metadata": {},
          "execution_count": 94
        }
      ]
    },
    {
      "cell_type": "code",
      "metadata": {
        "id": "a_nVv8RPJI4t",
        "colab": {
          "base_uri": "https://localhost:8080/"
        },
        "outputId": "0a45c06a-625b-4edd-9169-accd2976a1b6"
      },
      "source": [
        "np.amax(rand1,axis=1,keepdims=True)"
      ],
      "execution_count": null,
      "outputs": [
        {
          "output_type": "execute_result",
          "data": {
            "text/plain": [
              "array([[1.51761131],\n",
              "       [0.48883813],\n",
              "       [0.32833784],\n",
              "       [1.66320103]])"
            ]
          },
          "metadata": {},
          "execution_count": 95
        }
      ]
    },
    {
      "cell_type": "markdown",
      "metadata": {
        "id": "CGCySOjRJI4u"
      },
      "source": [
        "## 1.4. Indexation and Slicing"
      ]
    },
    {
      "cell_type": "code",
      "metadata": {
        "id": "-qvoW8GTJI4u",
        "colab": {
          "base_uri": "https://localhost:8080/"
        },
        "outputId": "4d2cb0e5-90bb-4bba-e8f0-8042d2fe5bb7"
      },
      "source": [
        "#Create an array consisting of square of first ten whole numbers.\n",
        "square_array = np.power(np.arange(0,10),2)\n",
        "square_array"
      ],
      "execution_count": null,
      "outputs": [
        {
          "output_type": "execute_result",
          "data": {
            "text/plain": [
              "array([ 0,  1,  4,  9, 16, 25, 36, 49, 64, 81])"
            ]
          },
          "metadata": {},
          "execution_count": 96
        }
      ]
    },
    {
      "cell_type": "code",
      "metadata": {
        "id": "FkpfmbX7JI4v",
        "colab": {
          "base_uri": "https://localhost:8080/"
        },
        "outputId": "91383b36-1432-41f2-a51d-a3ad9b7c9fe6"
      },
      "source": [
        "# First item\n",
        "square_array[0]"
      ],
      "execution_count": null,
      "outputs": [
        {
          "output_type": "execute_result",
          "data": {
            "text/plain": [
              "0"
            ]
          },
          "metadata": {},
          "execution_count": 99
        }
      ]
    },
    {
      "cell_type": "code",
      "metadata": {
        "id": "FIQ0jiaUJI4w",
        "colab": {
          "base_uri": "https://localhost:8080/"
        },
        "outputId": "87876c47-56b0-49dc-f544-0b706952fcc2"
      },
      "source": [
        "#Access values in the above array using index.\n",
        "square_array[2]"
      ],
      "execution_count": null,
      "outputs": [
        {
          "output_type": "execute_result",
          "data": {
            "text/plain": [
              "4"
            ]
          },
          "metadata": {},
          "execution_count": 100
        }
      ]
    },
    {
      "cell_type": "code",
      "metadata": {
        "id": "igl8w36kJI4x",
        "colab": {
          "base_uri": "https://localhost:8080/"
        },
        "outputId": "6da24beb-ba88-45ef-ea03-c4a10c31b668"
      },
      "source": [
        "# Last item\n",
        "square_array[-1]"
      ],
      "execution_count": null,
      "outputs": [
        {
          "output_type": "execute_result",
          "data": {
            "text/plain": [
              "81"
            ]
          },
          "metadata": {},
          "execution_count": 101
        }
      ]
    },
    {
      "cell_type": "code",
      "metadata": {
        "id": "x4CH6ojhJI4x",
        "colab": {
          "base_uri": "https://localhost:8080/"
        },
        "outputId": "07fe266c-87a8-4216-af6a-c7f612431c2f"
      },
      "source": [
        "# From item 2 to item 5 (excluded !)\n",
        "square_array[2:5]"
      ],
      "execution_count": null,
      "outputs": [
        {
          "output_type": "execute_result",
          "data": {
            "text/plain": [
              "array([ 4,  9, 16])"
            ]
          },
          "metadata": {},
          "execution_count": 102
        }
      ]
    },
    {
      "cell_type": "code",
      "metadata": {
        "id": "mp-fZbEGJI4y",
        "colab": {
          "base_uri": "https://localhost:8080/"
        },
        "outputId": "9a335f3a-6d02-41a7-88d8-63b6e796abc0"
      },
      "source": [
        "#Eliptic formulation \n",
        "# 3 first items\n",
        "square_array[:3]"
      ],
      "execution_count": null,
      "outputs": [
        {
          "output_type": "execute_result",
          "data": {
            "text/plain": [
              "array([0, 1, 4])"
            ]
          },
          "metadata": {},
          "execution_count": 103
        }
      ]
    },
    {
      "cell_type": "code",
      "metadata": {
        "id": "AtJElbzcJI4z",
        "colab": {
          "base_uri": "https://localhost:8080/"
        },
        "outputId": "0132129c-9061-4eb3-aa05-d39305637773"
      },
      "source": [
        "# Starting from the 4th item\n",
        "square_array[3:]"
      ],
      "execution_count": null,
      "outputs": [
        {
          "output_type": "execute_result",
          "data": {
            "text/plain": [
              "array([ 9, 16, 25, 36, 49, 64, 81])"
            ]
          },
          "metadata": {},
          "execution_count": 104
        }
      ]
    },
    {
      "cell_type": "code",
      "metadata": {
        "id": "y6hvMMBEJI4z",
        "colab": {
          "base_uri": "https://localhost:8080/"
        },
        "outputId": "834a510c-bcdd-44c1-dbbf-0c7ce1a91c0a"
      },
      "source": [
        "# All items\n",
        "square_array"
      ],
      "execution_count": null,
      "outputs": [
        {
          "output_type": "execute_result",
          "data": {
            "text/plain": [
              "array([ 0,  1,  4,  9, 16, 25, 36, 49, 64, 81])"
            ]
          },
          "metadata": {},
          "execution_count": 106
        }
      ]
    },
    {
      "cell_type": "code",
      "metadata": {
        "id": "qFeJ77q_JI40",
        "colab": {
          "base_uri": "https://localhost:8080/"
        },
        "outputId": "6073dcf7-6ab8-4355-914b-8ee1dd3f83f0"
      },
      "source": [
        "# With a step\n",
        "#d[start:stop:stepsize]\n",
        "square_array[2:5:1]"
      ],
      "execution_count": null,
      "outputs": [
        {
          "output_type": "execute_result",
          "data": {
            "text/plain": [
              "array([ 4,  9, 16])"
            ]
          },
          "metadata": {},
          "execution_count": 107
        }
      ]
    },
    {
      "cell_type": "code",
      "metadata": {
        "id": "d8TRmfZEJI41",
        "colab": {
          "base_uri": "https://localhost:8080/"
        },
        "outputId": "7c9be0a8-4aa1-4828-d118-592dd9d71889"
      },
      "source": [
        "#Reverse\n",
        "square_array[::-1]"
      ],
      "execution_count": null,
      "outputs": [
        {
          "output_type": "execute_result",
          "data": {
            "text/plain": [
              "array([81, 64, 49, 36, 25, 16,  9,  4,  1,  0])"
            ]
          },
          "metadata": {},
          "execution_count": 108
        }
      ]
    },
    {
      "cell_type": "code",
      "metadata": {
        "id": "ocqXNGpzJI42",
        "colab": {
          "base_uri": "https://localhost:8080/"
        },
        "outputId": "6c5f2e1a-add1-45cf-ce09-f3bfcd5b307f"
      },
      "source": [
        "#Select values from array greater than 20.\n",
        "array = square_array > 20\n",
        "square_array[array]"
      ],
      "execution_count": null,
      "outputs": [
        {
          "output_type": "execute_result",
          "data": {
            "text/plain": [
              "array([25, 36, 49, 64, 81])"
            ]
          },
          "metadata": {},
          "execution_count": 110
        }
      ]
    },
    {
      "cell_type": "code",
      "metadata": {
        "id": "9mdMvaqwJI42",
        "colab": {
          "base_uri": "https://localhost:8080/"
        },
        "outputId": "a52b0e31-45a9-46de-d224-59881d38c716"
      },
      "source": [
        "#Create a multidimensional array\n",
        "new_array = np.random.rand(3,4,5)\n",
        "new_array"
      ],
      "execution_count": 2,
      "outputs": [
        {
          "output_type": "execute_result",
          "data": {
            "text/plain": [
              "array([[[0.49931938, 0.65580344, 0.38575927, 0.07800263, 0.1979933 ],\n",
              "        [0.03431004, 0.43012857, 0.04770653, 0.60835738, 0.03702095],\n",
              "        [0.6453156 , 0.68900044, 0.91398537, 0.62527437, 0.63752692],\n",
              "        [0.76131949, 0.65872079, 0.19515961, 0.22025879, 0.6580571 ]],\n",
              "\n",
              "       [[0.35677245, 0.63824799, 0.49539882, 0.57337316, 0.05917601],\n",
              "        [0.42743466, 0.45603249, 0.32557427, 0.41556776, 0.80834507],\n",
              "        [0.41506303, 0.93265029, 0.2528518 , 0.79353211, 0.27490727],\n",
              "        [0.37893331, 0.61665816, 0.96559455, 0.0604141 , 0.69169512]],\n",
              "\n",
              "       [[0.94083551, 0.36244302, 0.37447129, 0.08706718, 0.79685212],\n",
              "        [0.5810193 , 0.74030162, 0.05173164, 0.81892617, 0.63344136],\n",
              "        [0.27112076, 0.69046683, 0.6721961 , 0.01311503, 0.86614991],\n",
              "        [0.27017491, 0.52978485, 0.27663302, 0.42807216, 0.27741289]]])"
            ]
          },
          "metadata": {},
          "execution_count": 2
        }
      ]
    },
    {
      "cell_type": "code",
      "metadata": {
        "id": "BmZYNh7cJI43",
        "colab": {
          "base_uri": "https://localhost:8080/"
        },
        "outputId": "b43537c6-deef-449c-9747-66b365c0c06d"
      },
      "source": [
        "# shape\n",
        "new_array.shape"
      ],
      "execution_count": null,
      "outputs": [
        {
          "output_type": "execute_result",
          "data": {
            "text/plain": [
              "(3, 4, 5)"
            ]
          },
          "metadata": {},
          "execution_count": 113
        }
      ]
    },
    {
      "cell_type": "code",
      "metadata": {
        "id": "VdsQ7PzSJI44",
        "colab": {
          "base_uri": "https://localhost:8080/"
        },
        "outputId": "6062f71b-5e87-4782-9349-cd375115ca3f"
      },
      "source": [
        "# First item on each axis\n",
        "new_array[(0,0,0)]"
      ],
      "execution_count": null,
      "outputs": [
        {
          "output_type": "execute_result",
          "data": {
            "text/plain": [
              "0.7595024130138094"
            ]
          },
          "metadata": {},
          "execution_count": 115
        }
      ]
    },
    {
      "cell_type": "code",
      "metadata": {
        "id": "ViE0Z9icJI45",
        "colab": {
          "base_uri": "https://localhost:8080/"
        },
        "outputId": "8c4b34f7-08ca-4664-a27c-97a38f1d09b7"
      },
      "source": [
        "#Access the second row and third column\n",
        "new_array[(1,2)]"
      ],
      "execution_count": null,
      "outputs": [
        {
          "output_type": "execute_result",
          "data": {
            "text/plain": [
              "array([0.16732638, 0.4800989 , 0.86614543, 0.40640716, 0.94445266])"
            ]
          },
          "metadata": {},
          "execution_count": 118
        }
      ]
    },
    {
      "cell_type": "code",
      "metadata": {
        "id": "_8uw3rDkJI45",
        "colab": {
          "base_uri": "https://localhost:8080/"
        },
        "outputId": "6ca1310f-dc9a-408c-d1be-e860d7f462dc"
      },
      "source": [
        "#With an interval and ann elipse\n",
        "new_array[::1,1,2::]"
      ],
      "execution_count": null,
      "outputs": [
        {
          "output_type": "execute_result",
          "data": {
            "text/plain": [
              "array([[0.07534833, 0.21520799, 0.52061881],\n",
              "       [0.71241139, 0.30090046, 0.91283161],\n",
              "       [0.79391644, 0.9679389 , 0.44088454]])"
            ]
          },
          "metadata": {},
          "execution_count": 134
        }
      ]
    },
    {
      "cell_type": "code",
      "metadata": {
        "id": "p6TWTNxNJI46",
        "colab": {
          "base_uri": "https://localhost:8080/"
        },
        "outputId": "e88ce998-2c71-4965-8eac-1f4743312545"
      },
      "source": [
        "# Access 2nd row and columns 3 to 7. Note that the numbering of the rows and columns start with 0.,\n",
        "new_array[1,2:7]"
      ],
      "execution_count": 4,
      "outputs": [
        {
          "output_type": "execute_result",
          "data": {
            "text/plain": [
              "array([[0.41506303, 0.93265029, 0.2528518 , 0.79353211, 0.27490727],\n",
              "       [0.37893331, 0.61665816, 0.96559455, 0.0604141 , 0.69169512]])"
            ]
          },
          "metadata": {},
          "execution_count": 4
        }
      ]
    },
    {
      "cell_type": "code",
      "metadata": {
        "id": "gGnt1BSNJI47",
        "colab": {
          "base_uri": "https://localhost:8080/"
        },
        "outputId": "237d9ea3-c31a-4e60-e4db-d4d9e801f351"
      },
      "source": [
        "#Select all rows till the 2nd row and all columns except last column\n",
        "new_array[:2,:new_array.shape[1]-1]\n"
      ],
      "execution_count": 12,
      "outputs": [
        {
          "output_type": "execute_result",
          "data": {
            "text/plain": [
              "array([[[0.49931938, 0.65580344, 0.38575927, 0.07800263, 0.1979933 ],\n",
              "        [0.03431004, 0.43012857, 0.04770653, 0.60835738, 0.03702095],\n",
              "        [0.6453156 , 0.68900044, 0.91398537, 0.62527437, 0.63752692]],\n",
              "\n",
              "       [[0.35677245, 0.63824799, 0.49539882, 0.57337316, 0.05917601],\n",
              "        [0.42743466, 0.45603249, 0.32557427, 0.41556776, 0.80834507],\n",
              "        [0.41506303, 0.93265029, 0.2528518 , 0.79353211, 0.27490727]]])"
            ]
          },
          "metadata": {},
          "execution_count": 12
        }
      ]
    },
    {
      "cell_type": "code",
      "metadata": {
        "id": "kzZ8wOwKJI47",
        "colab": {
          "base_uri": "https://localhost:8080/"
        },
        "outputId": "dcf36381-0c5c-457f-f7a7-ae8d9fff064a"
      },
      "source": [
        "# a[2] is equivalent to a[2,:,:]\n",
        "new_array[2]"
      ],
      "execution_count": 14,
      "outputs": [
        {
          "output_type": "execute_result",
          "data": {
            "text/plain": [
              "array([[0.94083551, 0.36244302, 0.37447129, 0.08706718, 0.79685212],\n",
              "       [0.5810193 , 0.74030162, 0.05173164, 0.81892617, 0.63344136],\n",
              "       [0.27112076, 0.69046683, 0.6721961 , 0.01311503, 0.86614991],\n",
              "       [0.27017491, 0.52978485, 0.27663302, 0.42807216, 0.27741289]])"
            ]
          },
          "metadata": {},
          "execution_count": 14
        }
      ]
    },
    {
      "cell_type": "code",
      "metadata": {
        "id": "hA97YIddJI48",
        "colab": {
          "base_uri": "https://localhost:8080/"
        },
        "outputId": "2ac6e250-f08d-4a69-dcee-714cd88cdfff"
      },
      "source": [
        "# Multiple elipses : c[1,...,2] is equivalent to c[1,:,:,2] on 4-D array\n",
        "c = np.random.randn(2,2,2,3)\n",
        "c"
      ],
      "execution_count": 37,
      "outputs": [
        {
          "output_type": "execute_result",
          "data": {
            "text/plain": [
              "array([[[[ 0.23209278, -1.07513607, -1.64491808],\n",
              "         [-0.00648128,  0.71373812, -1.80091105]],\n",
              "\n",
              "        [[-0.52443201, -1.14358991,  0.06774028],\n",
              "         [-1.00729197, -1.99064104, -0.50212937]]],\n",
              "\n",
              "\n",
              "       [[[-0.11940422,  3.03113499, -0.16217507],\n",
              "         [ 0.51883335, -1.06260664, -0.41520796]],\n",
              "\n",
              "        [[-0.4216383 ,  1.77672338, -1.11051321],\n",
              "         [ 1.80466906,  1.93041066, -0.20151835]]]])"
            ]
          },
          "metadata": {},
          "execution_count": 37
        }
      ]
    },
    {
      "cell_type": "code",
      "metadata": {
        "id": "9v_RtRJPJI49",
        "colab": {
          "base_uri": "https://localhost:8080/"
        },
        "outputId": "72c4d227-ca5b-406b-b71f-b92f81939288"
      },
      "source": [
        "c[1, ..., 2]"
      ],
      "execution_count": 38,
      "outputs": [
        {
          "output_type": "execute_result",
          "data": {
            "text/plain": [
              "array([[-0.16217507, -0.41520796],\n",
              "       [-1.11051321, -0.20151835]])"
            ]
          },
          "metadata": {},
          "execution_count": 38
        }
      ]
    },
    {
      "cell_type": "code",
      "metadata": {
        "id": "PzbyG3W7JI49",
        "colab": {
          "base_uri": "https://localhost:8080/"
        },
        "outputId": "e6b83473-0b6e-4f97-835d-3eecf4669147"
      },
      "source": [
        "c[1, :, :, 2]"
      ],
      "execution_count": 39,
      "outputs": [
        {
          "output_type": "execute_result",
          "data": {
            "text/plain": [
              "array([[-0.16217507, -0.41520796],\n",
              "       [-1.11051321, -0.20151835]])"
            ]
          },
          "metadata": {},
          "execution_count": 39
        }
      ]
    },
    {
      "cell_type": "code",
      "metadata": {
        "id": "0gcyDZPgJI4-",
        "colab": {
          "base_uri": "https://localhost:8080/"
        },
        "outputId": "0cc5a620-16bd-4e35-dbff-fdbebf712a05"
      },
      "source": [
        "d = np.random.randn(4, 3)\n",
        "d"
      ],
      "execution_count": 40,
      "outputs": [
        {
          "output_type": "execute_result",
          "data": {
            "text/plain": [
              "array([[-0.46543794,  0.36561175,  0.04369021],\n",
              "       [-0.38208289,  1.47005566, -0.08421098],\n",
              "       [-0.64769729, -0.87546724,  1.62910088],\n",
              "       [ 1.77196598,  0.27052044,  0.05251547]])"
            ]
          },
          "metadata": {},
          "execution_count": 40
        }
      ]
    },
    {
      "cell_type": "code",
      "metadata": {
        "id": "1siS6oeBJI4_",
        "colab": {
          "base_uri": "https://localhost:8080/"
        },
        "outputId": "2d5590c3-0814-4e9c-9194-3494a48bad9a"
      },
      "source": [
        "e = d[:, 0] \n",
        "e"
      ],
      "execution_count": 41,
      "outputs": [
        {
          "output_type": "execute_result",
          "data": {
            "text/plain": [
              "array([-0.46543794, -0.38208289, -0.64769729,  1.77196598])"
            ]
          },
          "metadata": {},
          "execution_count": 41
        }
      ]
    },
    {
      "cell_type": "code",
      "metadata": {
        "id": "Hz9bniCnJI4_",
        "colab": {
          "base_uri": "https://localhost:8080/"
        },
        "outputId": "fb8e259e-9715-476c-cb5a-9d1be621308c"
      },
      "source": [
        "# b has shape (4,) not (4,1)\n",
        "e.shape"
      ],
      "execution_count": 43,
      "outputs": [
        {
          "output_type": "execute_result",
          "data": {
            "text/plain": [
              "(4,)"
            ]
          },
          "metadata": {},
          "execution_count": 43
        }
      ]
    },
    {
      "cell_type": "code",
      "metadata": {
        "id": "VhJZAwSlJI5A",
        "colab": {
          "base_uri": "https://localhost:8080/"
        },
        "outputId": "742a48bd-09cc-4585-a357-46ca64a0a610"
      },
      "source": [
        "e = d[0, :]\n",
        "e"
      ],
      "execution_count": 44,
      "outputs": [
        {
          "output_type": "execute_result",
          "data": {
            "text/plain": [
              "array([-0.46543794,  0.36561175,  0.04369021])"
            ]
          },
          "metadata": {},
          "execution_count": 44
        }
      ]
    },
    {
      "cell_type": "code",
      "metadata": {
        "id": "JZJi41EXJI5A",
        "colab": {
          "base_uri": "https://localhost:8080/"
        },
        "outputId": "46429f53-0677-4bd0-8cf7-253b3786086c"
      },
      "source": [
        "# c has shape (3,) not (1,3)\n",
        "e.shape"
      ],
      "execution_count": 45,
      "outputs": [
        {
          "output_type": "execute_result",
          "data": {
            "text/plain": [
              "(3,)"
            ]
          },
          "metadata": {},
          "execution_count": 45
        }
      ]
    },
    {
      "cell_type": "code",
      "metadata": {
        "id": "FVZSH30BJI5B",
        "colab": {
          "base_uri": "https://localhost:8080/"
        },
        "outputId": "63f2b01c-2e68-4b61-ea55-2bfbc1311b6d"
      },
      "source": [
        "# Meanwhile using slice and not index preserves dimension\n",
        "f = d[0:1]\n",
        "f"
      ],
      "execution_count": 50,
      "outputs": [
        {
          "output_type": "execute_result",
          "data": {
            "text/plain": [
              "array([[-0.46543794,  0.36561175,  0.04369021]])"
            ]
          },
          "metadata": {},
          "execution_count": 50
        }
      ]
    },
    {
      "cell_type": "code",
      "metadata": {
        "id": "EahmERAIJI5C",
        "colab": {
          "base_uri": "https://localhost:8080/"
        },
        "outputId": "4f40f8dd-50e8-4ec1-fdc2-d73939080e6e"
      },
      "source": [
        "f.shape"
      ],
      "execution_count": 51,
      "outputs": [
        {
          "output_type": "execute_result",
          "data": {
            "text/plain": [
              "(1, 3)"
            ]
          },
          "metadata": {},
          "execution_count": 51
        }
      ]
    },
    {
      "cell_type": "markdown",
      "metadata": {
        "id": "kcDGElxbJI5C"
      },
      "source": [
        "## 1.5. Assignation"
      ]
    },
    {
      "cell_type": "code",
      "metadata": {
        "id": "yFkA5aXFJI5D",
        "colab": {
          "base_uri": "https://localhost:8080/"
        },
        "outputId": "5199f6f2-810d-4bad-b466-29db06a3b63a"
      },
      "source": [
        "#Assignation is performed by the operator =. Item or a sub-array can be targeted.\n",
        "a = np.array([[1,2,3],[4,5,6]])\n",
        "a"
      ],
      "execution_count": 69,
      "outputs": [
        {
          "output_type": "execute_result",
          "data": {
            "text/plain": [
              "array([[1, 2, 3],\n",
              "       [4, 5, 6]])"
            ]
          },
          "metadata": {},
          "execution_count": 69
        }
      ]
    },
    {
      "cell_type": "code",
      "metadata": {
        "id": "P5AbhUDIJI5D",
        "colab": {
          "base_uri": "https://localhost:8080/"
        },
        "outputId": "ed1fe16b-8fa4-468b-ff10-352df605ab95"
      },
      "source": [
        "a[0,0] = 10\n",
        "a"
      ],
      "execution_count": 70,
      "outputs": [
        {
          "output_type": "execute_result",
          "data": {
            "text/plain": [
              "array([[10,  2,  3],\n",
              "       [ 4,  5,  6]])"
            ]
          },
          "metadata": {},
          "execution_count": 70
        }
      ]
    },
    {
      "cell_type": "code",
      "metadata": {
        "id": "D0UiXWYIJI5E",
        "colab": {
          "base_uri": "https://localhost:8080/"
        },
        "outputId": "05fc944c-191b-43b0-e862-2ecb5cdf0a1b"
      },
      "source": [
        "a[:,1:]=1\n",
        "a"
      ],
      "execution_count": 71,
      "outputs": [
        {
          "output_type": "execute_result",
          "data": {
            "text/plain": [
              "array([[10,  1,  1],\n",
              "       [ 4,  1,  1]])"
            ]
          },
          "metadata": {},
          "execution_count": 71
        }
      ]
    },
    {
      "cell_type": "code",
      "metadata": {
        "id": "iLvUbytjJI5E"
      },
      "source": [
        "#Take Care ! dtype is determined at instanciation and can not be changed after."
      ],
      "execution_count": null,
      "outputs": []
    },
    {
      "cell_type": "code",
      "metadata": {
        "id": "269zU8exJI5F",
        "colab": {
          "base_uri": "https://localhost:8080/"
        },
        "outputId": "b81801ba-f845-4fa0-ed7d-1ec6b9a3b0ef"
      },
      "source": [
        "#1.175 will be downcast before assignation\n",
        "a[1,0] = 1.75\n",
        "a"
      ],
      "execution_count": 72,
      "outputs": [
        {
          "output_type": "execute_result",
          "data": {
            "text/plain": [
              "array([[10,  1,  1],\n",
              "       [ 1,  1,  1]])"
            ]
          },
          "metadata": {},
          "execution_count": 72
        }
      ]
    },
    {
      "cell_type": "code",
      "metadata": {
        "id": "SSPumC0MJI5G",
        "colab": {
          "base_uri": "https://localhost:8080/"
        },
        "outputId": "393d5ab7-06ea-419f-97f5-403d453e9efe"
      },
      "source": [
        "#Arrays can be reshaped by the resize method. That’s an in-place operation:\n",
        "b = np.resize(a,[3,2])\n",
        "b"
      ],
      "execution_count": 73,
      "outputs": [
        {
          "output_type": "execute_result",
          "data": {
            "text/plain": [
              "array([[10,  1],\n",
              "       [ 1,  1],\n",
              "       [ 1,  1]])"
            ]
          },
          "metadata": {},
          "execution_count": 73
        }
      ]
    },
    {
      "cell_type": "markdown",
      "metadata": {
        "id": "rbyCpE_oJI5G"
      },
      "source": [
        "## 1.6. References, view and copy"
      ]
    },
    {
      "cell_type": "markdown",
      "metadata": {
        "id": "-EBFyw8tJI5G"
      },
      "source": [
        "If a and b reference the same ndarray, all operation on a also applied to b. They share both data and metadata. If c is a view of a, they share the same data but not the metadata. For example shapes can be modified separately. But if we change the first element of c, the first element of a is also changed. If d is a copy of a, all data and metadata are separated."
      ]
    },
    {
      "cell_type": "code",
      "metadata": {
        "id": "FdNkDdWwJI5H",
        "colab": {
          "base_uri": "https://localhost:8080/"
        },
        "outputId": "bc5356e5-743b-463f-d280-1d662e7710d8"
      },
      "source": [
        "a = np.random.randn(4, 3)\n",
        "a"
      ],
      "execution_count": 15,
      "outputs": [
        {
          "output_type": "execute_result",
          "data": {
            "text/plain": [
              "array([[-0.47533822, -0.71050967, -0.52122922],\n",
              "       [ 0.67406937, -0.5562013 , -2.11426923],\n",
              "       [ 0.87102457, -0.29358536, -0.09430362],\n",
              "       [ 0.13472803, -1.66597512,  0.13657809]])"
            ]
          },
          "metadata": {},
          "execution_count": 15
        }
      ]
    },
    {
      "cell_type": "code",
      "metadata": {
        "id": "YCvRRxWhJI5H",
        "colab": {
          "base_uri": "https://localhost:8080/"
        },
        "outputId": "158db41a-eb07-46f9-e4f4-1eed8276acac"
      },
      "source": [
        "# b is a reference to a\n",
        "b=a\n",
        "b[0,0] = 1\n",
        "b"
      ],
      "execution_count": 16,
      "outputs": [
        {
          "output_type": "execute_result",
          "data": {
            "text/plain": [
              "array([[ 1.        , -0.71050967, -0.52122922],\n",
              "       [ 0.67406937, -0.5562013 , -2.11426923],\n",
              "       [ 0.87102457, -0.29358536, -0.09430362],\n",
              "       [ 0.13472803, -1.66597512,  0.13657809]])"
            ]
          },
          "metadata": {},
          "execution_count": 16
        }
      ]
    },
    {
      "cell_type": "code",
      "metadata": {
        "id": "8DhldmvdJI5I",
        "colab": {
          "base_uri": "https://localhost:8080/"
        },
        "outputId": "9b388566-5537-48d8-d7f4-013e64101122"
      },
      "source": [
        "#c is a view of a\n",
        "c = a.view().reshape(3,4)\n",
        "c"
      ],
      "execution_count": 17,
      "outputs": [
        {
          "output_type": "execute_result",
          "data": {
            "text/plain": [
              "array([[ 1.        , -0.71050967, -0.52122922,  0.67406937],\n",
              "       [-0.5562013 , -2.11426923,  0.87102457, -0.29358536],\n",
              "       [-0.09430362,  0.13472803, -1.66597512,  0.13657809]])"
            ]
          },
          "metadata": {},
          "execution_count": 17
        }
      ]
    },
    {
      "cell_type": "code",
      "metadata": {
        "id": "iJiDeIkiJI5J",
        "colab": {
          "base_uri": "https://localhost:8080/"
        },
        "outputId": "795f6f2e-8b2a-4c53-d9a0-79440571ddc9"
      },
      "source": [
        "# Shape of a is not affected\n",
        "a"
      ],
      "execution_count": 18,
      "outputs": [
        {
          "output_type": "execute_result",
          "data": {
            "text/plain": [
              "array([[ 1.        , -0.71050967, -0.52122922],\n",
              "       [ 0.67406937, -0.5562013 , -2.11426923],\n",
              "       [ 0.87102457, -0.29358536, -0.09430362],\n",
              "       [ 0.13472803, -1.66597512,  0.13657809]])"
            ]
          },
          "metadata": {},
          "execution_count": 18
        }
      ]
    },
    {
      "cell_type": "code",
      "metadata": {
        "id": "T5uMwevVJI5J",
        "colab": {
          "base_uri": "https://localhost:8080/"
        },
        "outputId": "ae1e3f96-089c-4b21-ee04-92f8a64c4f6e"
      },
      "source": [
        "# But if we modify the last element of c, the last element of a is changed\n",
        "c[-1,-1] = 0\n",
        "a"
      ],
      "execution_count": 19,
      "outputs": [
        {
          "output_type": "execute_result",
          "data": {
            "text/plain": [
              "array([[ 1.        , -0.71050967, -0.52122922],\n",
              "       [ 0.67406937, -0.5562013 , -2.11426923],\n",
              "       [ 0.87102457, -0.29358536, -0.09430362],\n",
              "       [ 0.13472803, -1.66597512,  0.        ]])"
            ]
          },
          "metadata": {},
          "execution_count": 19
        }
      ]
    },
    {
      "cell_type": "code",
      "metadata": {
        "id": "i1pD9ybuJI5K",
        "colab": {
          "base_uri": "https://localhost:8080/"
        },
        "outputId": "90d8bc64-43fd-4331-e9fb-7c1a1c28c369"
      },
      "source": [
        "# d is a copy of a\n",
        "d = a.copy()\n",
        "d"
      ],
      "execution_count": 20,
      "outputs": [
        {
          "output_type": "execute_result",
          "data": {
            "text/plain": [
              "array([[ 1.        , -0.71050967, -0.52122922],\n",
              "       [ 0.67406937, -0.5562013 , -2.11426923],\n",
              "       [ 0.87102457, -0.29358536, -0.09430362],\n",
              "       [ 0.13472803, -1.66597512,  0.        ]])"
            ]
          },
          "metadata": {},
          "execution_count": 20
        }
      ]
    },
    {
      "cell_type": "code",
      "metadata": {
        "id": "lM5XNHLFJI5K",
        "colab": {
          "base_uri": "https://localhost:8080/"
        },
        "outputId": "750b1f9d-c6f2-46fa-b0a1-02007e071013"
      },
      "source": [
        "d[0,0] =3\n",
        "d"
      ],
      "execution_count": 22,
      "outputs": [
        {
          "output_type": "execute_result",
          "data": {
            "text/plain": [
              "array([[ 3.        , -0.71050967, -0.52122922],\n",
              "       [ 0.67406937, -0.5562013 , -2.11426923],\n",
              "       [ 0.87102457, -0.29358536, -0.09430362],\n",
              "       [ 0.13472803, -1.66597512,  0.        ]])"
            ]
          },
          "metadata": {},
          "execution_count": 22
        }
      ]
    },
    {
      "cell_type": "code",
      "metadata": {
        "id": "1BfHQXxgJI5L",
        "colab": {
          "base_uri": "https://localhost:8080/"
        },
        "outputId": "20cca37d-70f9-45a8-d6ae-6ff754b7b672"
      },
      "source": [
        "# a was not modified by the assigniation on d\n",
        "a"
      ],
      "execution_count": 23,
      "outputs": [
        {
          "output_type": "execute_result",
          "data": {
            "text/plain": [
              "array([[ 1.        , -0.71050967, -0.52122922],\n",
              "       [ 0.67406937, -0.5562013 , -2.11426923],\n",
              "       [ 0.87102457, -0.29358536, -0.09430362],\n",
              "       [ 0.13472803, -1.66597512,  0.        ]])"
            ]
          },
          "metadata": {},
          "execution_count": 23
        }
      ]
    },
    {
      "cell_type": "markdown",
      "metadata": {
        "id": "uGwJdaonJI5M"
      },
      "source": [
        "* ndarray.resize(new shape, refcheck=True) Resize in-place\n",
        "* ndarray.reshape(shape, order=C) Return a view with a new shape ndarray.ravel(order=C) Return a flatten view\n",
        "* ndarray.flatten(order=C) Return a flatten copy\n",
        "* numpy.concatenate((a1, a2, ...), axis=0) Return a concatenation of arrays along an existing axis\n",
        "* numpy.stack((a1, a2, ...), axis=0) Return a stack of arrays along a new axis"
      ]
    },
    {
      "cell_type": "markdown",
      "metadata": {
        "id": "YstJg6BOJI5M"
      },
      "source": [
        "## 1.7. Saving and loading data"
      ]
    },
    {
      "cell_type": "markdown",
      "metadata": {
        "id": "9-i0m2gMJI5M"
      },
      "source": [
        "Load a npy or npz file: \n",
        "\n",
        "* numpy.load(file, mmap_mode=None, allow_pickle=True, fix_imports=True, encoding='ASCII')\n",
        "\n",
        "\n",
        "Load a txt file: \n",
        "* numpy.loadtxt(fname, dtype=<type 'float'>, comments='#', delimiter=None, converters=None, skiprows=0, usecols=None, unpack=False, ndmin=0)\n",
        "\n"
      ]
    },
    {
      "cell_type": "markdown",
      "metadata": {
        "id": "5KhbH2uYJI5M"
      },
      "source": [
        "Save ONE array into a npy file: \n",
        "\n",
        "* numpy.save(file, arr, allow_pickle=True, fix_imports=True)\n",
        "\n",
        "\n",
        "\n",
        "Save many arrays into an npz file,\n",
        "\n",
        "* numpy.savez(file, *args, **kwds) \n",
        "\n",
        "save ONE array into a txt file: \n",
        "\n",
        "* numpy.savetxt(fname, X, fmt='%.18e', delimiter=' ', newline='\\n', header='', footer='', comments='# ')\n"
      ]
    },
    {
      "cell_type": "markdown",
      "metadata": {
        "id": "aJ5NTYZ9JI5M"
      },
      "source": [
        "## 1.8. CVS reading \n",
        "\n",
        "The Python API provides the module CSV and the function reader() that can be used to load CSV files. Once loaded, you can convert to a numpy array and use it for machine learning.\n",
        "\n"
      ]
    },
    {
      "cell_type": "code",
      "metadata": {
        "id": "VkIUDjqrJvjM",
        "colab": {
          "base_uri": "https://localhost:8080/"
        },
        "outputId": "f21e8543-9ba5-476d-c583-da10b9085cdc"
      },
      "source": [
        "from google.colab import drive\n",
        "drive.mount('/content/gdrive')"
      ],
      "execution_count": 24,
      "outputs": [
        {
          "output_type": "stream",
          "name": "stdout",
          "text": [
            "Mounted at /content/gdrive\n"
          ]
        }
      ]
    },
    {
      "cell_type": "code",
      "metadata": {
        "id": "U33W1dhiKzKf",
        "colab": {
          "base_uri": "https://localhost:8080/"
        },
        "outputId": "149b5d35-e34b-4057-9d3e-13946abf08fd"
      },
      "source": [
        "import os\n",
        "os.listdir('/content/gdrive')"
      ],
      "execution_count": 31,
      "outputs": [
        {
          "output_type": "execute_result",
          "data": {
            "text/plain": [
              "['.shortcut-targets-by-id', '.file-revisions-by-id', 'MyDrive', '.Trash-0']"
            ]
          },
          "metadata": {},
          "execution_count": 31
        }
      ]
    },
    {
      "cell_type": "code",
      "metadata": {
        "id": "eGxo6rKOJI5M",
        "colab": {
          "base_uri": "https://localhost:8080/"
        },
        "outputId": "e0483037-04b1-4cb9-d7ac-fb4ff36cd5ae"
      },
      "source": [
        "# Load CSV Using Python\n",
        "import pandas as pd\n",
        "df = pd.read_csv(\"/content/gdrive/MyDrive/data.csv\")\n",
        "df.shape"
      ],
      "execution_count": 44,
      "outputs": [
        {
          "output_type": "execute_result",
          "data": {
            "text/plain": [
              "(149, 5)"
            ]
          },
          "metadata": {},
          "execution_count": 44
        }
      ]
    },
    {
      "cell_type": "markdown",
      "metadata": {
        "id": "AoKnsJcbJI5N"
      },
      "source": [
        "You can load your CSV data using numpy and the numpy.loadtxt() por numpy.genfromtxt() functions. This functions assume no header row and all data has the same format.\n",
        "\n"
      ]
    },
    {
      "cell_type": "code",
      "metadata": {
        "id": "0OHL5kezJI5N",
        "colab": {
          "base_uri": "https://localhost:8080/"
        },
        "outputId": "a3b4784c-5343-4373-973b-c8f3b288eeef"
      },
      "source": [
        "# Load CSV using NumPy\n",
        "from numpy import genfromtxt\n",
        "my_data = genfromtxt('/content/gdrive/MyDrive/data.csv', delimiter=',')\n",
        "my_data.shape\n",
        "\n"
      ],
      "execution_count": 45,
      "outputs": [
        {
          "output_type": "execute_result",
          "data": {
            "text/plain": [
              "(150, 5)"
            ]
          },
          "metadata": {},
          "execution_count": 45
        }
      ]
    },
    {
      "cell_type": "markdown",
      "metadata": {
        "id": "lWLk7qdlJI5N"
      },
      "source": [
        "## 1.9. Your turn"
      ]
    },
    {
      "cell_type": "markdown",
      "metadata": {
        "id": "kkQNxI-gJI5O"
      },
      "source": [
        "Try to answer each following questions by a small snippet of code.\n",
        "\n",
        "1. How to reverse a vector (1d array) ?\n",
        "- new_array = array[::-1]\n",
        "2. How to keep dimension consistency when slicing a matrix (2d array) ?\n",
        "new_array = array[i:j,k:l]\n",
        "3. How to create a (5,5) array with random values and find the extrema values ?\n",
        "- rand1 = np.random.randn(5,5)\n",
        "  rand.max()\n",
        "4. With the help of broadcasting, how to produce a matrix A where A[i,j] = 2i + j ? (no for loop allowed)\n",
        "5. A is a (4,4) int array, I want to change the last element of A to 1.5 without loosing any information. How can I do it ?\n",
        "a = A[-1,-1]\n",
        "A[-1,-1] = 1.5"
      ]
    }
  ]
}