{
  "nbformat": 4,
  "nbformat_minor": 0,
  "metadata": {
    "kernelspec": {
      "display_name": "Python 3",
      "language": "python",
      "name": "python3"
    },
    "language_info": {
      "codemirror_mode": {
        "name": "ipython",
        "version": 3
      },
      "file_extension": ".py",
      "mimetype": "text/x-python",
      "name": "python",
      "nbconvert_exporter": "python",
      "pygments_lexer": "ipython3",
      "version": "3.6.8"
    },
    "colab": {
      "name": "basic_numpy.ipynb",
      "provenance": [],
      "collapsed_sections": [
        "lWLk7qdlJI5N"
      ]
    }
  },
  "cells": [
    {
      "cell_type": "markdown",
      "metadata": {
        "id": "5Q5dUOXPJI3v",
        "colab_type": "text"
      },
      "source": [
        "<h1 style=\"text-align: center\"> Basic Python for Machine Learning </h1>\n",
        "<h1 style=\"text-align: center\"> (Part 2)</h1>"
      ]
    },
    {
      "cell_type": "markdown",
      "metadata": {
        "id": "e7n6GYiLJI3z",
        "colab_type": "text"
      },
      "source": [
        "In this second part, we will use CSV file format (https://en.wikipedia.org/wiki/Comma-separated_values). You  first need to understand some basic things about this format, e.g. file header, comments, delimiter, quotes, etc. We will use a dataset to demonstrate how to prepare data for machine learning.  The data is freely available from the UCI Machine Learning Repository  ( https://archive.ics.uci.edu/ml/datasets.php ).   "
      ]
    },
    {
      "cell_type": "markdown",
      "metadata": {
        "id": "AlvCcG6uJI30",
        "colab_type": "text"
      },
      "source": [
        "# 1. The Numpy Library\n",
        "\n",
        "Numpy is the **fundamental package for scientific computing in Python**. It provides support for **large multi-dimensional arrays** and also **high level mathematical functions** to operate on these arrays. (You can play with this library to do deeplearning but NumPy is not the best choice). Nevertheless, most scientific libs rely on NumPy conventions and APIs so it is important to have some knowledges about it.\n",
        "\n",
        "For more detail about Numpy, please refer to the official documentation available at https://numpy.org"
      ]
    },
    {
      "cell_type": "markdown",
      "metadata": {
        "id": "W1MXc5whJI32",
        "colab_type": "text"
      },
      "source": [
        "To start, we first need to import numpy in Python and check the version\n",
        "\n",
        "---\n",
        "---\n",
        "\n"
      ]
    },
    {
      "cell_type": "code",
      "metadata": {
        "id": "hSdV29d9JI33",
        "colab_type": "code",
        "colab": {
          "base_uri": "https://localhost:8080/",
          "height": 34
        },
        "outputId": "f3f16241-df90-463c-8456-6e52a251934f"
      },
      "source": [
        ""
      ],
      "execution_count": null,
      "outputs": [
        {
          "output_type": "stream",
          "text": [
            "numpy: 1.18.5\n"
          ],
          "name": "stdout"
        }
      ]
    },
    {
      "cell_type": "markdown",
      "metadata": {
        "id": "ef__u-A_JI37",
        "colab_type": "text"
      },
      "source": [
        "## 1.2. The ndarray class"
      ]
    },
    {
      "cell_type": "markdown",
      "metadata": {
        "id": "m1VQI3WSJI38",
        "colab_type": "text"
      },
      "source": [
        "The fundamental class of NumPy is ndarray. It represents table of items, with the following constraints:\n",
        "\n",
        "• It is multidimensional(1d,2d,3d,...,nd),\n",
        "\n",
        "• It is homogeneous,i.e, all items inside the table should belong to the same type.\n",
        "\n",
        "NumPy provides the foundation data structures and operations for SciPy. These are ndarrays that are efficient arrays and easy to define and manipulate. "
      ]
    },
    {
      "cell_type": "code",
      "metadata": {
        "id": "3FOmg-b8JI39",
        "colab_type": "code",
        "colab": {
          "base_uri": "https://localhost:8080/",
          "height": 34
        },
        "outputId": "85c9eabc-4430-4db5-84b6-7bdcf1ffdade"
      },
      "source": [
        "# define an array\n"
      ],
      "execution_count": null,
      "outputs": [
        {
          "output_type": "execute_result",
          "data": {
            "text/plain": [
              "array([1, 2, 3])"
            ]
          },
          "metadata": {
            "tags": []
          },
          "execution_count": 2
        }
      ]
    },
    {
      "cell_type": "code",
      "metadata": {
        "id": "8rGHgH6oewlC",
        "colab_type": "code",
        "colab": {}
      },
      "source": [
        ""
      ],
      "execution_count": null,
      "outputs": []
    },
    {
      "cell_type": "code",
      "metadata": {
        "id": "6It6iWdoJI3_",
        "colab_type": "code",
        "colab": {
          "base_uri": "https://localhost:8080/",
          "height": 51
        },
        "outputId": "257c5591-edf7-49c8-a7dd-2adc55bfb9f2"
      },
      "source": [
        "# create a multi-dimensional array.\n"
      ],
      "execution_count": null,
      "outputs": [
        {
          "output_type": "execute_result",
          "data": {
            "text/plain": [
              "array([[1, 2, 3],\n",
              "       [4, 5, 6]])"
            ]
          },
          "metadata": {
            "tags": []
          },
          "execution_count": 3
        }
      ]
    },
    {
      "cell_type": "code",
      "metadata": {
        "id": "wRl6CE--JI4C",
        "colab_type": "code",
        "colab": {
          "base_uri": "https://localhost:8080/",
          "height": 34
        },
        "outputId": "7ceda81c-e12f-4ba3-9225-43f7d39f33b4"
      },
      "source": [
        "# Type of a\n"
      ],
      "execution_count": null,
      "outputs": [
        {
          "output_type": "execute_result",
          "data": {
            "text/plain": [
              "numpy.ndarray"
            ]
          },
          "metadata": {
            "tags": []
          },
          "execution_count": 4
        }
      ]
    },
    {
      "cell_type": "code",
      "metadata": {
        "id": "sSV1rhnnJI4E",
        "colab_type": "code",
        "colab": {
          "base_uri": "https://localhost:8080/",
          "height": 34
        },
        "outputId": "bab2a59d-4d91-4205-867b-95999e89317b"
      },
      "source": [
        "#Check the shape (rows and columns of the array).\n"
      ],
      "execution_count": null,
      "outputs": [
        {
          "output_type": "execute_result",
          "data": {
            "text/plain": [
              "(2, 3)"
            ]
          },
          "metadata": {
            "tags": []
          },
          "execution_count": 5
        }
      ]
    },
    {
      "cell_type": "code",
      "metadata": {
        "id": "NACg9wkpJI4F",
        "colab_type": "code",
        "colab": {
          "base_uri": "https://localhost:8080/",
          "height": 34
        },
        "outputId": "7ff2a6b0-c105-46eb-d93f-7a136acf4023"
      },
      "source": [
        "# 'Rank' as mention in NumPy doc or number of dimensions\n"
      ],
      "execution_count": null,
      "outputs": [
        {
          "output_type": "execute_result",
          "data": {
            "text/plain": [
              "2"
            ]
          },
          "metadata": {
            "tags": []
          },
          "execution_count": 6
        }
      ]
    },
    {
      "cell_type": "code",
      "metadata": {
        "id": "0oY9NXfYJI4H",
        "colab_type": "code",
        "colab": {
          "base_uri": "https://localhost:8080/",
          "height": 34
        },
        "outputId": "6fe45701-7bea-4ecc-be78-2aa67dbfd956"
      },
      "source": [
        "# Total number of items\n"
      ],
      "execution_count": null,
      "outputs": [
        {
          "output_type": "execute_result",
          "data": {
            "text/plain": [
              "6"
            ]
          },
          "metadata": {
            "tags": []
          },
          "execution_count": 7
        }
      ]
    },
    {
      "cell_type": "code",
      "metadata": {
        "id": "I4zU6ib7JI4J",
        "colab_type": "code",
        "colab": {
          "base_uri": "https://localhost:8080/",
          "height": 34
        },
        "outputId": "13bee507-f2c5-4945-c052-4ed1c5ba6c64"
      },
      "source": [
        "# Item type\n"
      ],
      "execution_count": null,
      "outputs": [
        {
          "output_type": "execute_result",
          "data": {
            "text/plain": [
              "dtype('int64')"
            ]
          },
          "metadata": {
            "tags": []
          },
          "execution_count": 8
        }
      ]
    },
    {
      "cell_type": "code",
      "metadata": {
        "id": "3-cKcsC4JI4K",
        "colab_type": "code",
        "colab": {
          "base_uri": "https://localhost:8080/",
          "height": 34
        },
        "outputId": "83893576-5a2d-489a-e3de-7de29fcc8a21"
      },
      "source": [
        "#Actual data of the table\n"
      ],
      "execution_count": null,
      "outputs": [
        {
          "output_type": "execute_result",
          "data": {
            "text/plain": [
              "<memory at 0x7f0b86f83558>"
            ]
          },
          "metadata": {
            "tags": []
          },
          "execution_count": 9
        }
      ]
    },
    {
      "cell_type": "code",
      "metadata": {
        "id": "QNRt2IMNJI4L",
        "colab_type": "code",
        "colab": {
          "base_uri": "https://localhost:8080/",
          "height": 34
        },
        "outputId": "a236ddff-b2ae-4ee0-f253-02e9b154944b"
      },
      "source": [
        "#Create an evenly spaced array between 1 and 30 with a difference of 2.\n"
      ],
      "execution_count": null,
      "outputs": [
        {
          "output_type": "execute_result",
          "data": {
            "text/plain": [
              "array([ 1,  3,  5,  7,  9, 11, 13, 15, 17, 19, 21, 23, 25, 27, 29])"
            ]
          },
          "metadata": {
            "tags": []
          },
          "execution_count": 10
        }
      ]
    },
    {
      "cell_type": "code",
      "metadata": {
        "id": "c_ZO6Hk7JI4N",
        "colab_type": "code",
        "colab": {
          "base_uri": "https://localhost:8080/",
          "height": 102
        },
        "outputId": "3ff7dc5c-a982-43ba-9183-14e1bcd69ad6"
      },
      "source": [
        "#Reshape the above array into a desired shape.\n"
      ],
      "execution_count": null,
      "outputs": [
        {
          "output_type": "execute_result",
          "data": {
            "text/plain": [
              "array([[ 1,  3,  5],\n",
              "       [ 7,  9, 11],\n",
              "       [13, 15, 17],\n",
              "       [19, 21, 23],\n",
              "       [25, 27, 29]])"
            ]
          },
          "metadata": {
            "tags": []
          },
          "execution_count": 11
        }
      ]
    },
    {
      "cell_type": "code",
      "metadata": {
        "id": "zrACYGxCJI4O",
        "colab_type": "code",
        "colab": {
          "base_uri": "https://localhost:8080/",
          "height": 51
        },
        "outputId": "f5697b09-430d-4e68-a71f-848222e2dd15"
      },
      "source": [
        "# Create an array with all elements as ones.\n"
      ],
      "execution_count": null,
      "outputs": [
        {
          "output_type": "execute_result",
          "data": {
            "text/plain": [
              "array([[1., 1.],\n",
              "       [1., 1.]])"
            ]
          },
          "metadata": {
            "tags": []
          },
          "execution_count": 12
        }
      ]
    },
    {
      "cell_type": "code",
      "metadata": {
        "id": "H8h4juCEJI4P",
        "colab_type": "code",
        "colab": {
          "base_uri": "https://localhost:8080/",
          "height": 68
        },
        "outputId": "f5b3125a-beda-4caf-da44-e6e8aa2bebf9"
      },
      "source": [
        "#Create an array filled with zeros. \n"
      ],
      "execution_count": null,
      "outputs": [
        {
          "output_type": "execute_result",
          "data": {
            "text/plain": [
              "array([[0., 0., 0.],\n",
              "       [0., 0., 0.],\n",
              "       [0., 0., 0.]])"
            ]
          },
          "metadata": {
            "tags": []
          },
          "execution_count": 13
        }
      ]
    },
    {
      "cell_type": "code",
      "metadata": {
        "id": "rcSHf4NSJI4Q",
        "colab_type": "code",
        "colab": {
          "base_uri": "https://localhost:8080/",
          "height": 51
        },
        "outputId": "4797df63-7db0-4e40-e6d9-80e0f5cdf15c"
      },
      "source": [
        "#Create a diagonal matrix with diagonal values = 1\n"
      ],
      "execution_count": null,
      "outputs": [
        {
          "output_type": "execute_result",
          "data": {
            "text/plain": [
              "array([[1., 0.],\n",
              "       [0., 1.]])"
            ]
          },
          "metadata": {
            "tags": []
          },
          "execution_count": 14
        }
      ]
    },
    {
      "cell_type": "code",
      "metadata": {
        "id": "wOSAsxvdJI4R",
        "colab_type": "code",
        "colab": {
          "base_uri": "https://localhost:8080/",
          "height": 34
        },
        "outputId": "6cdcb3df-5136-449d-ab73-503e005cb4c9"
      },
      "source": [
        "#Extract only diagonal values from an array.\n"
      ],
      "execution_count": null,
      "outputs": [
        {
          "output_type": "execute_result",
          "data": {
            "text/plain": [
              "array([1., 1.])"
            ]
          },
          "metadata": {
            "tags": []
          },
          "execution_count": 15
        }
      ]
    },
    {
      "cell_type": "code",
      "metadata": {
        "id": "EC7JpAZ9JI4S",
        "colab_type": "code",
        "colab": {
          "base_uri": "https://localhost:8080/",
          "height": 68
        },
        "outputId": "adb888ca-1e12-4060-dabc-2763fba6f9b4"
      },
      "source": [
        ""
      ],
      "execution_count": null,
      "outputs": [
        {
          "output_type": "execute_result",
          "data": {
            "text/plain": [
              "array([[1., 0., 0., 0.],\n",
              "       [0., 1., 0., 0.],\n",
              "       [0., 0., 1., 0.]])"
            ]
          },
          "metadata": {
            "tags": []
          },
          "execution_count": 16
        }
      ]
    },
    {
      "cell_type": "code",
      "metadata": {
        "id": "C9B2AK2HJI4T",
        "colab_type": "code",
        "colab": {
          "base_uri": "https://localhost:8080/",
          "height": 85
        },
        "outputId": "33a7a7cc-7ab6-4f35-cf17-1c9330bd0f02"
      },
      "source": [
        "#Generate an evenly spaced list between the interval 1 and 5. \n",
        "#(Take a minute here to understand the difference between ‘linspace’ and ‘arange’)\n"
      ],
      "execution_count": null,
      "outputs": [
        {
          "output_type": "execute_result",
          "data": {
            "text/plain": [
              "array([1.        , 1.21052632, 1.42105263, 1.63157895, 1.84210526,\n",
              "       2.05263158, 2.26315789, 2.47368421, 2.68421053, 2.89473684,\n",
              "       3.10526316, 3.31578947, 3.52631579, 3.73684211, 3.94736842,\n",
              "       4.15789474, 4.36842105, 4.57894737, 4.78947368, 5.        ])"
            ]
          },
          "metadata": {
            "tags": []
          },
          "execution_count": 17
        }
      ]
    },
    {
      "cell_type": "code",
      "metadata": {
        "id": "_AkCsSPbJI4V",
        "colab_type": "code",
        "colab": {
          "base_uri": "https://localhost:8080/",
          "height": 102
        },
        "outputId": "5a23f934-4333-4b7b-e5fd-ca4b6a4b1964"
      },
      "source": [
        "#Generate an evenly spaced list \n"
      ],
      "execution_count": null,
      "outputs": [
        {
          "output_type": "execute_result",
          "data": {
            "text/plain": [
              "array([1.00000000e+01, 1.62377674e+01, 2.63665090e+01, 4.28133240e+01,\n",
              "       6.95192796e+01, 1.12883789e+02, 1.83298071e+02, 2.97635144e+02,\n",
              "       4.83293024e+02, 7.84759970e+02, 1.27427499e+03, 2.06913808e+03,\n",
              "       3.35981829e+03, 5.45559478e+03, 8.85866790e+03, 1.43844989e+04,\n",
              "       2.33572147e+04, 3.79269019e+04, 6.15848211e+04, 1.00000000e+05])"
            ]
          },
          "metadata": {
            "tags": []
          },
          "execution_count": 18
        }
      ]
    },
    {
      "cell_type": "code",
      "metadata": {
        "id": "y43TR-czJI4W",
        "colab_type": "code",
        "colab": {
          "base_uri": "https://localhost:8080/",
          "height": 102
        },
        "outputId": "20b3234a-9ee9-4fc7-cb68-ab93309cd39d"
      },
      "source": [
        "#Now, change the shape of the array in place (‘resize’ function changes the shape of the array in place, \n",
        "#unlike ‘reshape’)\n"
      ],
      "execution_count": null,
      "outputs": [
        {
          "output_type": "execute_result",
          "data": {
            "text/plain": [
              "array([[1.        , 1.21052632, 1.42105263, 1.63157895],\n",
              "       [1.84210526, 2.05263158, 2.26315789, 2.47368421],\n",
              "       [2.68421053, 2.89473684, 3.10526316, 3.31578947],\n",
              "       [3.52631579, 3.73684211, 3.94736842, 4.15789474],\n",
              "       [4.36842105, 4.57894737, 4.78947368, 5.        ]])"
            ]
          },
          "metadata": {
            "tags": []
          },
          "execution_count": 19
        }
      ]
    },
    {
      "cell_type": "code",
      "metadata": {
        "id": "y8jMS-OYJI4X",
        "colab_type": "code",
        "colab": {
          "base_uri": "https://localhost:8080/",
          "height": 34
        },
        "outputId": "729cf441-514f-4830-947e-da52c51d5711"
      },
      "source": [
        "#Create an array consisting of repeating list\n"
      ],
      "execution_count": null,
      "outputs": [
        {
          "output_type": "execute_result",
          "data": {
            "text/plain": [
              "array([1, 2, 3, 1, 2, 3, 1, 2, 3, 1, 2, 3, 1, 2, 3])"
            ]
          },
          "metadata": {
            "tags": []
          },
          "execution_count": 20
        }
      ]
    },
    {
      "cell_type": "code",
      "metadata": {
        "id": "G2QjyVFqJI4Y",
        "colab_type": "code",
        "colab": {
          "base_uri": "https://localhost:8080/",
          "height": 34
        },
        "outputId": "78ec1806-fc61-42ef-c03b-549183e81e3c"
      },
      "source": [
        "#Now, repeat each element of array n number of times using repeat function.\n"
      ],
      "execution_count": null,
      "outputs": [
        {
          "output_type": "execute_result",
          "data": {
            "text/plain": [
              "array([1, 1, 1, 2, 2, 2, 3, 3, 3])"
            ]
          },
          "metadata": {
            "tags": []
          },
          "execution_count": 21
        }
      ]
    },
    {
      "cell_type": "code",
      "metadata": {
        "id": "0mHJJ08uJI4Z",
        "colab_type": "code",
        "colab": {
          "base_uri": "https://localhost:8080/",
          "height": 68
        },
        "outputId": "91297e3e-d1ec-4602-fbcb-b8ffb20f96a9"
      },
      "source": [
        "#Generate arrays of desired shape filled with random values between 0 and 1.\n"
      ],
      "execution_count": null,
      "outputs": [
        {
          "output_type": "execute_result",
          "data": {
            "text/plain": [
              "array([[0.19376032, 0.61983444, 0.86120886, 0.76441249],\n",
              "       [0.67200117, 0.56163187, 0.99061394, 0.7036518 ],\n",
              "       [0.38836475, 0.413436  , 0.07480116, 0.39627932]])"
            ]
          },
          "metadata": {
            "tags": []
          },
          "execution_count": 22
        }
      ]
    },
    {
      "cell_type": "code",
      "metadata": {
        "id": "HOaANkR2JI4a",
        "colab_type": "code",
        "colab": {
          "base_uri": "https://localhost:8080/",
          "height": 68
        },
        "outputId": "b0f0a284-d9e0-4719-9255-f30795d0f2ec"
      },
      "source": [
        "# !!! shape is given dimension by dimension as arguments not in one tuple"
      ],
      "execution_count": null,
      "outputs": [
        {
          "output_type": "execute_result",
          "data": {
            "text/plain": [
              "array([[-0.05878962, -0.7430083 ,  1.04349352, -0.02944567],\n",
              "       [-1.44532637,  2.42504766, -0.70464273, -0.32784839],\n",
              "       [-1.09365777,  1.36035024,  0.36635167,  0.64439498]])"
            ]
          },
          "metadata": {
            "tags": []
          },
          "execution_count": 23
        }
      ]
    },
    {
      "cell_type": "code",
      "metadata": {
        "id": "XeEu6yvaJI4b",
        "colab_type": "code",
        "colab": {
          "base_uri": "https://localhost:8080/",
          "height": 119
        },
        "outputId": "eee258e5-f121-4347-d2aa-5d2339914bb4"
      },
      "source": [
        "#Stack the above two arrays created vertically\n"
      ],
      "execution_count": null,
      "outputs": [
        {
          "output_type": "execute_result",
          "data": {
            "text/plain": [
              "array([[ 0.19376032,  0.61983444,  0.86120886,  0.76441249],\n",
              "       [ 0.67200117,  0.56163187,  0.99061394,  0.7036518 ],\n",
              "       [ 0.38836475,  0.413436  ,  0.07480116,  0.39627932],\n",
              "       [-0.05878962, -0.7430083 ,  1.04349352, -0.02944567],\n",
              "       [-1.44532637,  2.42504766, -0.70464273, -0.32784839],\n",
              "       [-1.09365777,  1.36035024,  0.36635167,  0.64439498]])"
            ]
          },
          "metadata": {
            "tags": []
          },
          "execution_count": 24
        }
      ]
    },
    {
      "cell_type": "code",
      "metadata": {
        "id": "wkxnp8QuJI4c",
        "colab_type": "code",
        "colab": {
          "base_uri": "https://localhost:8080/",
          "height": 119
        },
        "outputId": "ca580f47-ad34-40ad-dc7b-116aab9b82d1"
      },
      "source": [
        "# stack the above two arrays createdhorizontally.\n"
      ],
      "execution_count": null,
      "outputs": [
        {
          "output_type": "execute_result",
          "data": {
            "text/plain": [
              "array([[ 0.19376032,  0.61983444,  0.86120886,  0.76441249, -0.05878962,\n",
              "        -0.7430083 ,  1.04349352, -0.02944567],\n",
              "       [ 0.67200117,  0.56163187,  0.99061394,  0.7036518 , -1.44532637,\n",
              "         2.42504766, -0.70464273, -0.32784839],\n",
              "       [ 0.38836475,  0.413436  ,  0.07480116,  0.39627932, -1.09365777,\n",
              "         1.36035024,  0.36635167,  0.64439498]])"
            ]
          },
          "metadata": {
            "tags": []
          },
          "execution_count": 25
        }
      ]
    },
    {
      "cell_type": "markdown",
      "metadata": {
        "id": "ho_nyB0JJI4d",
        "colab_type": "text"
      },
      "source": [
        "## 1.3. Operations"
      ]
    },
    {
      "cell_type": "code",
      "metadata": {
        "id": "--4KuXpJJI4d",
        "colab_type": "code",
        "colab": {
          "base_uri": "https://localhost:8080/",
          "height": 85
        },
        "outputId": "e2cf1ade-dc4d-4084-fd8c-f6716d78b89f"
      },
      "source": [
        "# randomly create 2 np array \n"
      ],
      "execution_count": null,
      "outputs": [
        {
          "output_type": "stream",
          "text": [
            "[[0.25339678 0.09479027]\n",
            " [0.54647621 0.76720242]]\n",
            "[[0.16977469 0.26604882]\n",
            " [0.97836458 0.62856282]]\n"
          ],
          "name": "stdout"
        }
      ]
    },
    {
      "cell_type": "code",
      "metadata": {
        "id": "onP1HurdJI4e",
        "colab_type": "code",
        "colab": {
          "base_uri": "https://localhost:8080/",
          "height": 51
        },
        "outputId": "ebe0ed10-14b6-4910-99e1-7a15b52c6cc1"
      },
      "source": [
        "#element-wise addition.\n"
      ],
      "execution_count": null,
      "outputs": [
        {
          "output_type": "execute_result",
          "data": {
            "text/plain": [
              "array([[0.42317147, 0.3608391 ],\n",
              "       [1.52484079, 1.39576524]])"
            ]
          },
          "metadata": {
            "tags": []
          },
          "execution_count": 27
        }
      ]
    },
    {
      "cell_type": "code",
      "metadata": {
        "id": "SnJzeyrMJI4f",
        "colab_type": "code",
        "colab": {
          "base_uri": "https://localhost:8080/",
          "height": 51
        },
        "outputId": "332e56ce-3bda-46e3-f0fc-5b935d724e76"
      },
      "source": [
        "#Element wise subtraction.\n"
      ],
      "execution_count": null,
      "outputs": [
        {
          "output_type": "execute_result",
          "data": {
            "text/plain": [
              "array([[ 0.08362209, -0.17125855],\n",
              "       [-0.43188837,  0.1386396 ]])"
            ]
          },
          "metadata": {
            "tags": []
          },
          "execution_count": 28
        }
      ]
    },
    {
      "cell_type": "code",
      "metadata": {
        "id": "V6Z5pqUBJI4g",
        "colab_type": "code",
        "colab": {
          "base_uri": "https://localhost:8080/",
          "height": 51
        },
        "outputId": "4df14798-fc47-4774-8ef5-16b2bd69958c"
      },
      "source": [
        "#Element wise multiplication \n"
      ],
      "execution_count": null,
      "outputs": [
        {
          "output_type": "execute_result",
          "data": {
            "text/plain": [
              "array([[0.04302036, 0.02521884],\n",
              "       [0.53465297, 0.48223491]])"
            ]
          },
          "metadata": {
            "tags": []
          },
          "execution_count": 29
        }
      ]
    },
    {
      "cell_type": "code",
      "metadata": {
        "id": "vbSWKOydJI4h",
        "colab_type": "code",
        "colab": {
          "base_uri": "https://localhost:8080/",
          "height": 51
        },
        "outputId": "bec55914-4b74-413c-ada7-4e10b81d7009"
      },
      "source": [
        "#power each element to 2.\n"
      ],
      "execution_count": null,
      "outputs": [
        {
          "output_type": "execute_result",
          "data": {
            "text/plain": [
              "array([[0.06420993, 0.0089852 ],\n",
              "       [0.29863625, 0.58859955]])"
            ]
          },
          "metadata": {
            "tags": []
          },
          "execution_count": 30
        }
      ]
    },
    {
      "cell_type": "code",
      "metadata": {
        "id": "o4s9wkIxJI4i",
        "colab_type": "code",
        "colab": {
          "base_uri": "https://localhost:8080/",
          "height": 51
        },
        "outputId": "78eda535-46d8-4360-8988-52b683261bd9"
      },
      "source": [
        "# dot product of the two arrays k and l.\n"
      ],
      "execution_count": null,
      "outputs": [
        {
          "output_type": "execute_result",
          "data": {
            "text/plain": [
              "array([[0.13575981, 0.12699756],\n",
              "       [0.8433815 , 0.62762427]])"
            ]
          },
          "metadata": {
            "tags": []
          },
          "execution_count": 31
        }
      ]
    },
    {
      "cell_type": "code",
      "metadata": {
        "id": "n6AR9InjJI4j",
        "colab_type": "code",
        "colab": {
          "base_uri": "https://localhost:8080/",
          "height": 51
        },
        "outputId": "55550536-dc86-4fc9-82df-fab4f3899999"
      },
      "source": [
        "# transpose of a.\n"
      ],
      "execution_count": null,
      "outputs": [
        {
          "output_type": "execute_result",
          "data": {
            "text/plain": [
              "array([[0.25339678, 0.54647621],\n",
              "       [0.09479027, 0.76720242]])"
            ]
          },
          "metadata": {
            "tags": []
          },
          "execution_count": 32
        }
      ]
    },
    {
      "cell_type": "code",
      "metadata": {
        "id": "cQygHpr_JI4k",
        "colab_type": "code",
        "colab": {
          "base_uri": "https://localhost:8080/",
          "height": 34
        },
        "outputId": "7a5f84c8-0025-4969-f5e6-9943cd75a40c"
      },
      "source": [
        "#datatype of elements in the array.\n"
      ],
      "execution_count": null,
      "outputs": [
        {
          "output_type": "execute_result",
          "data": {
            "text/plain": [
              "dtype('float64')"
            ]
          },
          "metadata": {
            "tags": []
          },
          "execution_count": 33
        }
      ]
    },
    {
      "cell_type": "code",
      "metadata": {
        "id": "Hllp_oisJI4l",
        "colab_type": "code",
        "colab": {
          "base_uri": "https://localhost:8080/",
          "height": 34
        },
        "outputId": "2c6ca9dc-ecbd-41ba-bb82-b59c87137fd0"
      },
      "source": [
        "#Change the datatype of the array.\n"
      ],
      "execution_count": null,
      "outputs": [
        {
          "output_type": "execute_result",
          "data": {
            "text/plain": [
              "dtype('float32')"
            ]
          },
          "metadata": {
            "tags": []
          },
          "execution_count": 34
        }
      ]
    },
    {
      "cell_type": "code",
      "metadata": {
        "id": "uLp2CTsCJI4l",
        "colab_type": "code",
        "colab": {
          "base_uri": "https://localhost:8080/",
          "height": 34
        },
        "outputId": "1b4787a3-c0d6-41b8-a3ae-a706674f5b0a"
      },
      "source": [
        "#some mathematical functions in an array, starting with sum of an array.\n"
      ],
      "execution_count": null,
      "outputs": [
        {
          "output_type": "execute_result",
          "data": {
            "text/plain": [
              "22"
            ]
          },
          "metadata": {
            "tags": []
          },
          "execution_count": 35
        }
      ]
    },
    {
      "cell_type": "code",
      "metadata": {
        "id": "ehl4vV5gJI4n",
        "colab_type": "code",
        "colab": {
          "base_uri": "https://localhost:8080/",
          "height": 34
        },
        "outputId": "fa66229a-b64d-4d2e-a8f6-21b9dc37843d"
      },
      "source": [
        "#Maximum of the elements of an array.\n"
      ],
      "execution_count": null,
      "outputs": [
        {
          "output_type": "execute_result",
          "data": {
            "text/plain": [
              "10"
            ]
          },
          "metadata": {
            "tags": []
          },
          "execution_count": 36
        }
      ]
    },
    {
      "cell_type": "code",
      "metadata": {
        "id": "LAw9aLbKJI4o",
        "colab_type": "code",
        "colab": {
          "base_uri": "https://localhost:8080/",
          "height": 34
        },
        "outputId": "63c23ce5-4c53-4ef8-9e6c-399721878081"
      },
      "source": [
        "#Mean of the elements of the array\n"
      ],
      "execution_count": null,
      "outputs": [
        {
          "output_type": "execute_result",
          "data": {
            "text/plain": [
              "4.4"
            ]
          },
          "metadata": {
            "tags": []
          },
          "execution_count": 37
        }
      ]
    },
    {
      "cell_type": "code",
      "metadata": {
        "id": "KJuQYyFKJI4p",
        "colab_type": "code",
        "colab": {
          "base_uri": "https://localhost:8080/",
          "height": 34
        },
        "outputId": "19d17178-5edb-4d61-ac08-8df1d17211f9"
      },
      "source": [
        "#Now, let’s retrieve the index of the maximum value of the array.\n"
      ],
      "execution_count": null,
      "outputs": [
        {
          "output_type": "execute_result",
          "data": {
            "text/plain": [
              "2"
            ]
          },
          "metadata": {
            "tags": []
          },
          "execution_count": 38
        }
      ]
    },
    {
      "cell_type": "code",
      "metadata": {
        "id": "OfdJDfKGJI4q",
        "colab_type": "code",
        "colab": {
          "base_uri": "https://localhost:8080/",
          "height": 34
        },
        "outputId": "a7ca0a8e-f562-4510-f649-6b7cf29f89cb"
      },
      "source": [
        "d.argmin()"
      ],
      "execution_count": null,
      "outputs": [
        {
          "output_type": "execute_result",
          "data": {
            "text/plain": [
              "0"
            ]
          },
          "metadata": {
            "tags": []
          },
          "execution_count": 39
        }
      ]
    },
    {
      "cell_type": "code",
      "metadata": {
        "id": "O2K2obWjJI4q",
        "colab_type": "code",
        "colab": {
          "base_uri": "https://localhost:8080/",
          "height": 34
        },
        "outputId": "37fcb998-e1f0-4458-f468-f5ae482465fd"
      },
      "source": [
        "#Create an array consisting of square of first ten whole numbers.\n"
      ],
      "execution_count": null,
      "outputs": [
        {
          "output_type": "execute_result",
          "data": {
            "text/plain": [
              "array([ 0,  1,  4,  9, 16, 25, 36, 49, 64, 81])"
            ]
          },
          "metadata": {
            "tags": []
          },
          "execution_count": 40
        }
      ]
    },
    {
      "cell_type": "code",
      "metadata": {
        "id": "Ngkq9x6gJI4r",
        "colab_type": "code",
        "colab": {
          "base_uri": "https://localhost:8080/",
          "height": 153
        },
        "outputId": "3c703f9d-7843-42d4-dc12-a9afe7fd874e"
      },
      "source": [
        "# randomly create 2 np array"
      ],
      "execution_count": null,
      "outputs": [
        {
          "output_type": "stream",
          "text": [
            "[[ 0.10748167 -0.60594817 -1.27936755]\n",
            " [-0.48475664  1.25499446  0.51523127]\n",
            " [ 0.3037174   0.12753081 -0.86024197]\n",
            " [-1.26656489  0.441959   -1.13760457]]\n",
            "[[ 0.23727124  0.01564153  0.62970145]\n",
            " [-0.32637164  0.87695142  2.34180192]\n",
            " [-1.06530851  0.73760767  0.5987742 ]\n",
            " [ 0.76896762  0.13973785 -0.24542938]]\n"
          ],
          "name": "stdout"
        }
      ]
    },
    {
      "cell_type": "markdown",
      "metadata": {
        "id": "AU7z1XZMJI4s",
        "colab_type": "text"
      },
      "source": [
        "If you want to compute an extremum along a particular axis, you should precise axis in argument. As indexing, this reduce the dimension of the array. If you want to keep the same number of dimension, you should set the keepdims argument to True."
      ]
    },
    {
      "cell_type": "code",
      "metadata": {
        "id": "1ZkZYIokJI4s",
        "colab_type": "code",
        "colab": {
          "base_uri": "https://localhost:8080/",
          "height": 34
        },
        "outputId": "208608e3-44f3-401a-cbee-13d6a1e5c9d9"
      },
      "source": [
        ""
      ],
      "execution_count": null,
      "outputs": [
        {
          "output_type": "execute_result",
          "data": {
            "text/plain": [
              "array([-1.27936755, -0.48475664, -0.86024197, -1.26656489])"
            ]
          },
          "metadata": {
            "tags": []
          },
          "execution_count": 42
        }
      ]
    },
    {
      "cell_type": "code",
      "metadata": {
        "id": "a_nVv8RPJI4t",
        "colab_type": "code",
        "colab": {
          "base_uri": "https://localhost:8080/",
          "height": 85
        },
        "outputId": "8d16bf08-4091-4bcf-8142-3a94d134a2d5"
      },
      "source": [
        ""
      ],
      "execution_count": null,
      "outputs": [
        {
          "output_type": "execute_result",
          "data": {
            "text/plain": [
              "array([[-1.27936755],\n",
              "       [-0.48475664],\n",
              "       [-0.86024197],\n",
              "       [-1.26656489]])"
            ]
          },
          "metadata": {
            "tags": []
          },
          "execution_count": 43
        }
      ]
    },
    {
      "cell_type": "markdown",
      "metadata": {
        "id": "CGCySOjRJI4u",
        "colab_type": "text"
      },
      "source": [
        "## 1.4. Indexation and Slicing"
      ]
    },
    {
      "cell_type": "code",
      "metadata": {
        "id": "-qvoW8GTJI4u",
        "colab_type": "code",
        "colab": {
          "base_uri": "https://localhost:8080/",
          "height": 34
        },
        "outputId": "db61de2f-4c74-4706-8832-ade13abf2e4b"
      },
      "source": [
        "#Create an array consisting of square of first ten whole numbers.\n"
      ],
      "execution_count": null,
      "outputs": [
        {
          "output_type": "execute_result",
          "data": {
            "text/plain": [
              "array([ 0,  1,  4,  9, 16, 25, 36, 49, 64, 81])"
            ]
          },
          "metadata": {
            "tags": []
          },
          "execution_count": 44
        }
      ]
    },
    {
      "cell_type": "code",
      "metadata": {
        "id": "FkpfmbX7JI4v",
        "colab_type": "code",
        "colab": {
          "base_uri": "https://localhost:8080/",
          "height": 34
        },
        "outputId": "728523d1-1a47-48a2-fc06-629c8a125667"
      },
      "source": [
        "# First item\n"
      ],
      "execution_count": null,
      "outputs": [
        {
          "output_type": "execute_result",
          "data": {
            "text/plain": [
              "0"
            ]
          },
          "metadata": {
            "tags": []
          },
          "execution_count": 45
        }
      ]
    },
    {
      "cell_type": "code",
      "metadata": {
        "id": "FIQ0jiaUJI4w",
        "colab_type": "code",
        "colab": {
          "base_uri": "https://localhost:8080/",
          "height": 34
        },
        "outputId": "06acfca4-095e-4506-bb7e-9511c1bbf4d9"
      },
      "source": [
        "#Access values in the above array using index.\n"
      ],
      "execution_count": null,
      "outputs": [
        {
          "output_type": "execute_result",
          "data": {
            "text/plain": [
              "4"
            ]
          },
          "metadata": {
            "tags": []
          },
          "execution_count": 46
        }
      ]
    },
    {
      "cell_type": "code",
      "metadata": {
        "id": "igl8w36kJI4x",
        "colab_type": "code",
        "colab": {
          "base_uri": "https://localhost:8080/",
          "height": 34
        },
        "outputId": "6e8b5bfd-f467-489c-f839-765fa0ff6464"
      },
      "source": [
        "# Last item\n"
      ],
      "execution_count": null,
      "outputs": [
        {
          "output_type": "execute_result",
          "data": {
            "text/plain": [
              "81"
            ]
          },
          "metadata": {
            "tags": []
          },
          "execution_count": 47
        }
      ]
    },
    {
      "cell_type": "code",
      "metadata": {
        "id": "x4CH6ojhJI4x",
        "colab_type": "code",
        "colab": {
          "base_uri": "https://localhost:8080/",
          "height": 34
        },
        "outputId": "c8f3659c-fe1f-4e55-92fd-fd4596a0fe96"
      },
      "source": [
        "# From item 2 to item 5 (excluded !)\n"
      ],
      "execution_count": null,
      "outputs": [
        {
          "output_type": "execute_result",
          "data": {
            "text/plain": [
              "array([ 4,  9, 16])"
            ]
          },
          "metadata": {
            "tags": []
          },
          "execution_count": 48
        }
      ]
    },
    {
      "cell_type": "code",
      "metadata": {
        "id": "mp-fZbEGJI4y",
        "colab_type": "code",
        "colab": {
          "base_uri": "https://localhost:8080/",
          "height": 34
        },
        "outputId": "b30b6772-7f75-492c-c857-5d59cee7ffb2"
      },
      "source": [
        "#Eliptic formulation \n",
        "# 3 first items\n"
      ],
      "execution_count": null,
      "outputs": [
        {
          "output_type": "execute_result",
          "data": {
            "text/plain": [
              "array([0, 1, 4])"
            ]
          },
          "metadata": {
            "tags": []
          },
          "execution_count": 49
        }
      ]
    },
    {
      "cell_type": "code",
      "metadata": {
        "id": "AtJElbzcJI4z",
        "colab_type": "code",
        "colab": {
          "base_uri": "https://localhost:8080/",
          "height": 34
        },
        "outputId": "891b2066-cc49-408b-e5ca-5e8f4f836bd6"
      },
      "source": [
        "# Starting from the 4th item\n"
      ],
      "execution_count": null,
      "outputs": [
        {
          "output_type": "execute_result",
          "data": {
            "text/plain": [
              "array([ 9, 16, 25, 36, 49, 64, 81])"
            ]
          },
          "metadata": {
            "tags": []
          },
          "execution_count": 50
        }
      ]
    },
    {
      "cell_type": "code",
      "metadata": {
        "id": "y6hvMMBEJI4z",
        "colab_type": "code",
        "colab": {
          "base_uri": "https://localhost:8080/",
          "height": 34
        },
        "outputId": "1258dbd0-1ff6-45f2-a60e-507c5489d28d"
      },
      "source": [
        "# All items\n"
      ],
      "execution_count": null,
      "outputs": [
        {
          "output_type": "execute_result",
          "data": {
            "text/plain": [
              "array([ 0,  1,  4,  9, 16, 25, 36, 49, 64, 81])"
            ]
          },
          "metadata": {
            "tags": []
          },
          "execution_count": 51
        }
      ]
    },
    {
      "cell_type": "code",
      "metadata": {
        "id": "qFeJ77q_JI40",
        "colab_type": "code",
        "colab": {
          "base_uri": "https://localhost:8080/",
          "height": 34
        },
        "outputId": "14e57869-bc70-498a-bd53-3fcecf496de6"
      },
      "source": [
        "# With a step\n",
        "#d[start:stop:stepsize]\n"
      ],
      "execution_count": null,
      "outputs": [
        {
          "output_type": "execute_result",
          "data": {
            "text/plain": [
              "array([ 4, 16, 36])"
            ]
          },
          "metadata": {
            "tags": []
          },
          "execution_count": 52
        }
      ]
    },
    {
      "cell_type": "code",
      "metadata": {
        "id": "d8TRmfZEJI41",
        "colab_type": "code",
        "colab": {
          "base_uri": "https://localhost:8080/",
          "height": 34
        },
        "outputId": "b8743dc7-76d7-4e84-a107-28710f930edf"
      },
      "source": [
        "#Reverse\n"
      ],
      "execution_count": null,
      "outputs": [
        {
          "output_type": "execute_result",
          "data": {
            "text/plain": [
              "array([81, 64, 49, 36, 25, 16,  9,  4,  1,  0])"
            ]
          },
          "metadata": {
            "tags": []
          },
          "execution_count": 53
        }
      ]
    },
    {
      "cell_type": "code",
      "metadata": {
        "id": "ocqXNGpzJI42",
        "colab_type": "code",
        "colab": {
          "base_uri": "https://localhost:8080/",
          "height": 34
        },
        "outputId": "352985dd-457e-4551-b0b7-8c305e8e1e65"
      },
      "source": [
        "#Select values from array greater than 20.\n"
      ],
      "execution_count": null,
      "outputs": [
        {
          "output_type": "execute_result",
          "data": {
            "text/plain": [
              "array([25, 36, 49, 64, 81])"
            ]
          },
          "metadata": {
            "tags": []
          },
          "execution_count": 54
        }
      ]
    },
    {
      "cell_type": "code",
      "metadata": {
        "id": "9mdMvaqwJI42",
        "colab_type": "code",
        "colab": {
          "base_uri": "https://localhost:8080/",
          "height": 255
        },
        "outputId": "4e01d7a0-981a-489c-9f06-973ae49c1bea"
      },
      "source": [
        "#Create a multidimensional array\n"
      ],
      "execution_count": null,
      "outputs": [
        {
          "output_type": "execute_result",
          "data": {
            "text/plain": [
              "array([[[0.26744754, 0.35799365, 0.92456232, 0.58302221, 0.73529411],\n",
              "        [0.80666624, 0.88009258, 0.78993131, 0.82257413, 0.53298369],\n",
              "        [0.76044335, 0.18397122, 0.92055304, 0.24047867, 0.73837399],\n",
              "        [0.24355433, 0.32023589, 0.98776208, 0.97059701, 0.44095053]],\n",
              "\n",
              "       [[0.40067613, 0.56284328, 0.27716801, 0.83958955, 0.88463481],\n",
              "        [0.57432366, 0.22583783, 0.13214541, 0.90067054, 0.92375607],\n",
              "        [0.12403723, 0.48170806, 0.18131214, 0.58541257, 0.79568205],\n",
              "        [0.72829766, 0.424752  , 0.3694815 , 0.00231792, 0.92803375]],\n",
              "\n",
              "       [[0.6999519 , 0.01979782, 0.00153465, 0.49607416, 0.22267532],\n",
              "        [0.84745035, 0.76871248, 0.8679842 , 0.07389645, 0.0275281 ],\n",
              "        [0.29804692, 0.39706664, 0.40913779, 0.1865013 , 0.6087326 ],\n",
              "        [0.57975328, 0.59707089, 0.22821822, 0.85169569, 0.463421  ]]])"
            ]
          },
          "metadata": {
            "tags": []
          },
          "execution_count": 55
        }
      ]
    },
    {
      "cell_type": "code",
      "metadata": {
        "id": "BmZYNh7cJI43",
        "colab_type": "code",
        "colab": {
          "base_uri": "https://localhost:8080/",
          "height": 34
        },
        "outputId": "ce7a92e2-e20d-4d14-d03d-be8100219370"
      },
      "source": [
        "# shape"
      ],
      "execution_count": null,
      "outputs": [
        {
          "output_type": "execute_result",
          "data": {
            "text/plain": [
              "(3, 4, 5)"
            ]
          },
          "metadata": {
            "tags": []
          },
          "execution_count": 56
        }
      ]
    },
    {
      "cell_type": "code",
      "metadata": {
        "id": "VdsQ7PzSJI44",
        "colab_type": "code",
        "colab": {
          "base_uri": "https://localhost:8080/",
          "height": 34
        },
        "outputId": "a2283d04-2ec3-43a7-fd03-15e2949f176b"
      },
      "source": [
        "# First item on each axis\n"
      ],
      "execution_count": null,
      "outputs": [
        {
          "output_type": "execute_result",
          "data": {
            "text/plain": [
              "0.2674475422219845"
            ]
          },
          "metadata": {
            "tags": []
          },
          "execution_count": 57
        }
      ]
    },
    {
      "cell_type": "code",
      "metadata": {
        "id": "ViE0Z9icJI45",
        "colab_type": "code",
        "colab": {
          "base_uri": "https://localhost:8080/",
          "height": 34
        },
        "outputId": "3c3cb2a3-807a-4d48-d5c0-3705832a6a26"
      },
      "source": [
        "#Access the second row and third column\n"
      ],
      "execution_count": null,
      "outputs": [
        {
          "output_type": "execute_result",
          "data": {
            "text/plain": [
              "array([0.12403723, 0.48170806, 0.18131214, 0.58541257, 0.79568205])"
            ]
          },
          "metadata": {
            "tags": []
          },
          "execution_count": 58
        }
      ]
    },
    {
      "cell_type": "code",
      "metadata": {
        "id": "_8uw3rDkJI45",
        "colab_type": "code",
        "colab": {
          "base_uri": "https://localhost:8080/",
          "height": 68
        },
        "outputId": "d4a8e39c-1bcb-4c22-dd85-788cc347b323"
      },
      "source": [
        "#With an interval and ann elipse\n"
      ],
      "execution_count": null,
      "outputs": [
        {
          "output_type": "execute_result",
          "data": {
            "text/plain": [
              "array([[0.78993131, 0.82257413, 0.53298369],\n",
              "       [0.13214541, 0.90067054, 0.92375607],\n",
              "       [0.8679842 , 0.07389645, 0.0275281 ]])"
            ]
          },
          "metadata": {
            "tags": []
          },
          "execution_count": 59
        }
      ]
    },
    {
      "cell_type": "code",
      "metadata": {
        "id": "p6TWTNxNJI46",
        "colab_type": "code",
        "colab": {
          "base_uri": "https://localhost:8080/",
          "height": 51
        },
        "outputId": "61abfc71-b958-446c-dc1b-77ffe1e6d041"
      },
      "source": [
        "# Access 2nd row and columns 3 to 7. Note that the numbering of the rows and columns start with 0.,\n"
      ],
      "execution_count": null,
      "outputs": [
        {
          "output_type": "execute_result",
          "data": {
            "text/plain": [
              "array([[0.12403723, 0.48170806, 0.18131214, 0.58541257, 0.79568205],\n",
              "       [0.72829766, 0.424752  , 0.3694815 , 0.00231792, 0.92803375]])"
            ]
          },
          "metadata": {
            "tags": []
          },
          "execution_count": 60
        }
      ]
    },
    {
      "cell_type": "code",
      "metadata": {
        "id": "gGnt1BSNJI47",
        "colab_type": "code",
        "colab": {
          "base_uri": "https://localhost:8080/",
          "height": 136
        },
        "outputId": "0de135c7-c3ab-4954-d855-03d3a1da889e"
      },
      "source": [
        "#Select all rows till the 2nd row and all columns except last column\n"
      ],
      "execution_count": null,
      "outputs": [
        {
          "output_type": "execute_result",
          "data": {
            "text/plain": [
              "array([[[0.26744754, 0.35799365, 0.92456232, 0.58302221, 0.73529411],\n",
              "        [0.80666624, 0.88009258, 0.78993131, 0.82257413, 0.53298369],\n",
              "        [0.76044335, 0.18397122, 0.92055304, 0.24047867, 0.73837399]],\n",
              "\n",
              "       [[0.40067613, 0.56284328, 0.27716801, 0.83958955, 0.88463481],\n",
              "        [0.57432366, 0.22583783, 0.13214541, 0.90067054, 0.92375607],\n",
              "        [0.12403723, 0.48170806, 0.18131214, 0.58541257, 0.79568205]]])"
            ]
          },
          "metadata": {
            "tags": []
          },
          "execution_count": 61
        }
      ]
    },
    {
      "cell_type": "code",
      "metadata": {
        "id": "kzZ8wOwKJI47",
        "colab_type": "code",
        "colab": {
          "base_uri": "https://localhost:8080/",
          "height": 85
        },
        "outputId": "d08d65a7-5329-4c96-903e-f0b491ddaef8"
      },
      "source": [
        "# a[2] is equivalent to a[2,:,:]\n"
      ],
      "execution_count": null,
      "outputs": [
        {
          "output_type": "execute_result",
          "data": {
            "text/plain": [
              "array([[0.6999519 , 0.01979782, 0.00153465, 0.49607416, 0.22267532],\n",
              "       [0.84745035, 0.76871248, 0.8679842 , 0.07389645, 0.0275281 ],\n",
              "       [0.29804692, 0.39706664, 0.40913779, 0.1865013 , 0.6087326 ],\n",
              "       [0.57975328, 0.59707089, 0.22821822, 0.85169569, 0.463421  ]])"
            ]
          },
          "metadata": {
            "tags": []
          },
          "execution_count": 62
        }
      ]
    },
    {
      "cell_type": "code",
      "metadata": {
        "id": "hA97YIddJI48",
        "colab_type": "code",
        "colab": {
          "base_uri": "https://localhost:8080/",
          "height": 221
        },
        "outputId": "e8a38a59-54b6-4412-aa39-7038c1d474fb"
      },
      "source": [
        "# Multiple elipses : c[1,...,2] is equivalent to c[1,:,:,2] on 4-D array\n"
      ],
      "execution_count": null,
      "outputs": [
        {
          "output_type": "execute_result",
          "data": {
            "text/plain": [
              "array([[[[ 0.01092484,  0.38591024,  0.34569849],\n",
              "         [-1.08145383, -0.66540738, -1.0007731 ]],\n",
              "\n",
              "        [[ 1.69101448,  1.22981859,  0.35244832],\n",
              "         [ 0.63552323, -0.09029121,  0.31642548]]],\n",
              "\n",
              "\n",
              "       [[[ 0.56990119,  0.28983554, -0.08689175],\n",
              "         [-0.54836915, -0.38713517,  0.89257086]],\n",
              "\n",
              "        [[-1.29572469, -0.86750909, -0.17548642],\n",
              "         [ 0.70761295, -1.3329843 ,  0.85623445]]]])"
            ]
          },
          "metadata": {
            "tags": []
          },
          "execution_count": 63
        }
      ]
    },
    {
      "cell_type": "code",
      "metadata": {
        "id": "9v_RtRJPJI49",
        "colab_type": "code",
        "colab": {
          "base_uri": "https://localhost:8080/",
          "height": 51
        },
        "outputId": "d702e0c3-c71e-41a8-e663-7f5c41587eed"
      },
      "source": [
        "c[1, ..., 2]"
      ],
      "execution_count": null,
      "outputs": [
        {
          "output_type": "execute_result",
          "data": {
            "text/plain": [
              "array([[-0.08689175,  0.89257086],\n",
              "       [-0.17548642,  0.85623445]])"
            ]
          },
          "metadata": {
            "tags": []
          },
          "execution_count": 64
        }
      ]
    },
    {
      "cell_type": "code",
      "metadata": {
        "id": "PzbyG3W7JI49",
        "colab_type": "code",
        "colab": {
          "base_uri": "https://localhost:8080/",
          "height": 51
        },
        "outputId": "f50f5e0e-3547-4bfe-96b3-00c7057cfcdc"
      },
      "source": [
        "c[1, :, :, 2]"
      ],
      "execution_count": null,
      "outputs": [
        {
          "output_type": "execute_result",
          "data": {
            "text/plain": [
              "array([[-0.08689175,  0.89257086],\n",
              "       [-0.17548642,  0.85623445]])"
            ]
          },
          "metadata": {
            "tags": []
          },
          "execution_count": 65
        }
      ]
    },
    {
      "cell_type": "code",
      "metadata": {
        "id": "0gcyDZPgJI4-",
        "colab_type": "code",
        "colab": {
          "base_uri": "https://localhost:8080/",
          "height": 85
        },
        "outputId": "ca7cccaf-028e-45df-e18e-302c14bd543a"
      },
      "source": [
        "d = np.random.randn(4, 3)\n",
        "d"
      ],
      "execution_count": null,
      "outputs": [
        {
          "output_type": "execute_result",
          "data": {
            "text/plain": [
              "array([[-0.269     ,  1.61725172, -0.21322409],\n",
              "       [ 0.0098456 ,  0.16965464, -1.44931971],\n",
              "       [-0.75817911, -1.64369599, -0.50108824],\n",
              "       [-0.44023007,  0.41824238, -1.38978736]])"
            ]
          },
          "metadata": {
            "tags": []
          },
          "execution_count": 66
        }
      ]
    },
    {
      "cell_type": "code",
      "metadata": {
        "id": "1siS6oeBJI4_",
        "colab_type": "code",
        "colab": {
          "base_uri": "https://localhost:8080/",
          "height": 34
        },
        "outputId": "eb8b6456-c144-4ec9-8b4e-a49ad686842f"
      },
      "source": [
        "e = d[:, 0] \n",
        "e"
      ],
      "execution_count": null,
      "outputs": [
        {
          "output_type": "execute_result",
          "data": {
            "text/plain": [
              "array([-0.269     ,  0.0098456 , -0.75817911, -0.44023007])"
            ]
          },
          "metadata": {
            "tags": []
          },
          "execution_count": 67
        }
      ]
    },
    {
      "cell_type": "code",
      "metadata": {
        "id": "Hz9bniCnJI4_",
        "colab_type": "code",
        "colab": {
          "base_uri": "https://localhost:8080/",
          "height": 34
        },
        "outputId": "f3edcd73-2904-4b7c-dc7e-c1d6f3b2ae5f"
      },
      "source": [
        "# b has shape (4,) not (4,1)\n"
      ],
      "execution_count": null,
      "outputs": [
        {
          "output_type": "execute_result",
          "data": {
            "text/plain": [
              "(4,)"
            ]
          },
          "metadata": {
            "tags": []
          },
          "execution_count": 68
        }
      ]
    },
    {
      "cell_type": "code",
      "metadata": {
        "id": "VhJZAwSlJI5A",
        "colab_type": "code",
        "colab": {
          "base_uri": "https://localhost:8080/",
          "height": 34
        },
        "outputId": "f7955256-6e8d-4384-ed2f-719ee536b447"
      },
      "source": [
        "e = d[0, :]\n",
        "e"
      ],
      "execution_count": null,
      "outputs": [
        {
          "output_type": "execute_result",
          "data": {
            "text/plain": [
              "array([-0.269     ,  1.61725172, -0.21322409])"
            ]
          },
          "metadata": {
            "tags": []
          },
          "execution_count": 69
        }
      ]
    },
    {
      "cell_type": "code",
      "metadata": {
        "id": "JZJi41EXJI5A",
        "colab_type": "code",
        "colab": {
          "base_uri": "https://localhost:8080/",
          "height": 34
        },
        "outputId": "724af43d-108d-41c2-ec63-c70d6c1212d9"
      },
      "source": [
        "# c has shape (3,) not (1,3)\n"
      ],
      "execution_count": null,
      "outputs": [
        {
          "output_type": "execute_result",
          "data": {
            "text/plain": [
              "(3,)"
            ]
          },
          "metadata": {
            "tags": []
          },
          "execution_count": 70
        }
      ]
    },
    {
      "cell_type": "code",
      "metadata": {
        "id": "FVZSH30BJI5B",
        "colab_type": "code",
        "colab": {
          "base_uri": "https://localhost:8080/",
          "height": 34
        },
        "outputId": "7b7fc06e-3977-4dc4-9193-d73003a1977d"
      },
      "source": [
        "# Meanwhile using slice and not index preserves dimension\n"
      ],
      "execution_count": null,
      "outputs": [
        {
          "output_type": "execute_result",
          "data": {
            "text/plain": [
              "array([[-0.269     ,  1.61725172, -0.21322409]])"
            ]
          },
          "metadata": {
            "tags": []
          },
          "execution_count": 71
        }
      ]
    },
    {
      "cell_type": "code",
      "metadata": {
        "id": "EahmERAIJI5C",
        "colab_type": "code",
        "colab": {
          "base_uri": "https://localhost:8080/",
          "height": 34
        },
        "outputId": "0a1dd5f4-8b41-40d3-9c85-680446386411"
      },
      "source": [
        "f.shape"
      ],
      "execution_count": null,
      "outputs": [
        {
          "output_type": "execute_result",
          "data": {
            "text/plain": [
              "(1, 3)"
            ]
          },
          "metadata": {
            "tags": []
          },
          "execution_count": 72
        }
      ]
    },
    {
      "cell_type": "markdown",
      "metadata": {
        "id": "kcDGElxbJI5C",
        "colab_type": "text"
      },
      "source": [
        "## 1.5. Assignation"
      ]
    },
    {
      "cell_type": "code",
      "metadata": {
        "id": "yFkA5aXFJI5D",
        "colab_type": "code",
        "colab": {
          "base_uri": "https://localhost:8080/",
          "height": 51
        },
        "outputId": "65157b19-77d0-42b8-84c5-72de64fefa81"
      },
      "source": [
        "#Assignation is performed by the operator =. Item or a sub-array can be targeted.\n"
      ],
      "execution_count": null,
      "outputs": [
        {
          "output_type": "execute_result",
          "data": {
            "text/plain": [
              "array([[1, 2, 3],\n",
              "       [4, 5, 6]])"
            ]
          },
          "metadata": {
            "tags": []
          },
          "execution_count": 73
        }
      ]
    },
    {
      "cell_type": "code",
      "metadata": {
        "id": "P5AbhUDIJI5D",
        "colab_type": "code",
        "colab": {
          "base_uri": "https://localhost:8080/",
          "height": 51
        },
        "outputId": "b752e331-1632-4742-b49c-1274e5eec391"
      },
      "source": [
        ""
      ],
      "execution_count": null,
      "outputs": [
        {
          "output_type": "execute_result",
          "data": {
            "text/plain": [
              "array([[10,  2,  3],\n",
              "       [ 4,  5,  6]])"
            ]
          },
          "metadata": {
            "tags": []
          },
          "execution_count": 74
        }
      ]
    },
    {
      "cell_type": "code",
      "metadata": {
        "id": "D0UiXWYIJI5E",
        "colab_type": "code",
        "colab": {
          "base_uri": "https://localhost:8080/",
          "height": 51
        },
        "outputId": "c4939893-6bea-4a72-e476-2d223f08904f"
      },
      "source": [
        ""
      ],
      "execution_count": null,
      "outputs": [
        {
          "output_type": "execute_result",
          "data": {
            "text/plain": [
              "array([[10,  1,  1],\n",
              "       [ 4,  1,  1]])"
            ]
          },
          "metadata": {
            "tags": []
          },
          "execution_count": 75
        }
      ]
    },
    {
      "cell_type": "code",
      "metadata": {
        "id": "iLvUbytjJI5E",
        "colab_type": "code",
        "colab": {}
      },
      "source": [
        "#Take Care ! dtype is determined at instanciation and can not be changed after."
      ],
      "execution_count": null,
      "outputs": []
    },
    {
      "cell_type": "code",
      "metadata": {
        "id": "269zU8exJI5F",
        "colab_type": "code",
        "colab": {
          "base_uri": "https://localhost:8080/",
          "height": 51
        },
        "outputId": "4dcef5ef-9572-45be-ed6a-73f70fd3542b"
      },
      "source": [
        "#1.175 will be downcast before assignation\n"
      ],
      "execution_count": null,
      "outputs": [
        {
          "output_type": "execute_result",
          "data": {
            "text/plain": [
              "array([[10,  1,  1],\n",
              "       [ 1,  1,  1]])"
            ]
          },
          "metadata": {
            "tags": []
          },
          "execution_count": 77
        }
      ]
    },
    {
      "cell_type": "code",
      "metadata": {
        "id": "SSPumC0MJI5G",
        "colab_type": "code",
        "colab": {
          "base_uri": "https://localhost:8080/",
          "height": 68
        },
        "outputId": "17a9376c-1d69-43fa-e13b-a2ad9031e4fc"
      },
      "source": [
        "#Arrays can be reshaped by the resize method. That’s an in-place operation:\n"
      ],
      "execution_count": null,
      "outputs": [
        {
          "output_type": "execute_result",
          "data": {
            "text/plain": [
              "array([[10,  1],\n",
              "       [ 1,  1],\n",
              "       [ 1,  1]])"
            ]
          },
          "metadata": {
            "tags": []
          },
          "execution_count": 78
        }
      ]
    },
    {
      "cell_type": "markdown",
      "metadata": {
        "id": "rbyCpE_oJI5G",
        "colab_type": "text"
      },
      "source": [
        "## 1.6. References, view and copy"
      ]
    },
    {
      "cell_type": "markdown",
      "metadata": {
        "id": "-EBFyw8tJI5G",
        "colab_type": "text"
      },
      "source": [
        "If a and b reference the same ndarray, all operation on a also applied to b. They share both data and metadata. If c is a view of a, they share the same data but not the metadata. For example shapes can be modified separately. But if we change the first element of c, the first element of a is also changed. If d is a copy of a, all data and metadata are separated."
      ]
    },
    {
      "cell_type": "code",
      "metadata": {
        "id": "FdNkDdWwJI5H",
        "colab_type": "code",
        "colab": {
          "base_uri": "https://localhost:8080/",
          "height": 85
        },
        "outputId": "eae0577b-4f95-495d-fe58-fff9ce90104d"
      },
      "source": [
        "a = np.random.randn(4, 3)\n",
        "a"
      ],
      "execution_count": null,
      "outputs": [
        {
          "output_type": "execute_result",
          "data": {
            "text/plain": [
              "array([[-0.75285817, -0.83421125, -0.4489713 ],\n",
              "       [-1.41187743,  0.76100036,  0.76552791],\n",
              "       [ 0.67015368, -0.05031783, -0.26206876],\n",
              "       [ 1.89567617, -1.65713055,  0.46353272]])"
            ]
          },
          "metadata": {
            "tags": []
          },
          "execution_count": 79
        }
      ]
    },
    {
      "cell_type": "code",
      "metadata": {
        "id": "YCvRRxWhJI5H",
        "colab_type": "code",
        "colab": {
          "base_uri": "https://localhost:8080/",
          "height": 85
        },
        "outputId": "4de8f8e5-d786-489e-e00e-245a46e196b3"
      },
      "source": [
        "# b is a reference to a\n"
      ],
      "execution_count": null,
      "outputs": [
        {
          "output_type": "execute_result",
          "data": {
            "text/plain": [
              "array([[ 1.        , -0.83421125, -0.4489713 ],\n",
              "       [-1.41187743,  0.76100036,  0.76552791],\n",
              "       [ 0.67015368, -0.05031783, -0.26206876],\n",
              "       [ 1.89567617, -1.65713055,  0.46353272]])"
            ]
          },
          "metadata": {
            "tags": []
          },
          "execution_count": 80
        }
      ]
    },
    {
      "cell_type": "code",
      "metadata": {
        "id": "8DhldmvdJI5I",
        "colab_type": "code",
        "colab": {
          "base_uri": "https://localhost:8080/",
          "height": 68
        },
        "outputId": "94c8cb8a-40e3-4f6f-e642-af2214527259"
      },
      "source": [
        "#c is a view of a\n"
      ],
      "execution_count": null,
      "outputs": [
        {
          "output_type": "execute_result",
          "data": {
            "text/plain": [
              "array([[ 1.        , -0.83421125, -0.4489713 , -1.41187743],\n",
              "       [ 0.76100036,  0.76552791,  0.67015368, -0.05031783],\n",
              "       [-0.26206876,  1.89567617, -1.65713055,  0.46353272]])"
            ]
          },
          "metadata": {
            "tags": []
          },
          "execution_count": 81
        }
      ]
    },
    {
      "cell_type": "code",
      "metadata": {
        "id": "iJiDeIkiJI5J",
        "colab_type": "code",
        "colab": {
          "base_uri": "https://localhost:8080/",
          "height": 85
        },
        "outputId": "a45e3c26-3cf4-401e-aa2c-1170e214f084"
      },
      "source": [
        "# Shape of a is not affected\n"
      ],
      "execution_count": null,
      "outputs": [
        {
          "output_type": "execute_result",
          "data": {
            "text/plain": [
              "array([[ 1.        , -0.83421125, -0.4489713 ],\n",
              "       [-1.41187743,  0.76100036,  0.76552791],\n",
              "       [ 0.67015368, -0.05031783, -0.26206876],\n",
              "       [ 1.89567617, -1.65713055,  0.46353272]])"
            ]
          },
          "metadata": {
            "tags": []
          },
          "execution_count": 82
        }
      ]
    },
    {
      "cell_type": "code",
      "metadata": {
        "id": "T5uMwevVJI5J",
        "colab_type": "code",
        "colab": {
          "base_uri": "https://localhost:8080/",
          "height": 85
        },
        "outputId": "9fc1d27c-b32c-481a-de91-f76a4699a7b4"
      },
      "source": [
        "# But if we modify the last element of c, the last element of a is changed\n"
      ],
      "execution_count": null,
      "outputs": [
        {
          "output_type": "execute_result",
          "data": {
            "text/plain": [
              "array([[ 1.        , -0.83421125, -0.4489713 ],\n",
              "       [-1.41187743,  0.76100036,  0.76552791],\n",
              "       [ 0.67015368, -0.05031783, -0.26206876],\n",
              "       [ 1.89567617, -1.65713055,  0.        ]])"
            ]
          },
          "metadata": {
            "tags": []
          },
          "execution_count": 83
        }
      ]
    },
    {
      "cell_type": "code",
      "metadata": {
        "id": "i1pD9ybuJI5K",
        "colab_type": "code",
        "colab": {
          "base_uri": "https://localhost:8080/",
          "height": 85
        },
        "outputId": "a1393f33-ef4e-4f9f-9a1e-403166013848"
      },
      "source": [
        "# d is a copy of a\n"
      ],
      "execution_count": null,
      "outputs": [
        {
          "output_type": "execute_result",
          "data": {
            "text/plain": [
              "array([[ 1.        , -0.83421125, -0.4489713 ],\n",
              "       [-1.41187743,  0.76100036,  0.76552791],\n",
              "       [ 0.67015368, -0.05031783, -0.26206876],\n",
              "       [ 1.89567617, -1.65713055,  0.        ]])"
            ]
          },
          "metadata": {
            "tags": []
          },
          "execution_count": 84
        }
      ]
    },
    {
      "cell_type": "code",
      "metadata": {
        "id": "lM5XNHLFJI5K",
        "colab_type": "code",
        "colab": {
          "base_uri": "https://localhost:8080/",
          "height": 85
        },
        "outputId": "d106e64d-9dbd-4c02-c251-05626e0d5fc3"
      },
      "source": [
        ""
      ],
      "execution_count": null,
      "outputs": [
        {
          "output_type": "execute_result",
          "data": {
            "text/plain": [
              "array([[ 3.        , -0.83421125, -0.4489713 ],\n",
              "       [-1.41187743,  0.76100036,  0.76552791],\n",
              "       [ 0.67015368, -0.05031783, -0.26206876],\n",
              "       [ 1.89567617, -1.65713055,  0.        ]])"
            ]
          },
          "metadata": {
            "tags": []
          },
          "execution_count": 85
        }
      ]
    },
    {
      "cell_type": "code",
      "metadata": {
        "id": "1BfHQXxgJI5L",
        "colab_type": "code",
        "colab": {
          "base_uri": "https://localhost:8080/",
          "height": 85
        },
        "outputId": "d048c422-11d3-4874-f26a-4314958e6667"
      },
      "source": [
        "# a was not modified by the assigniation on d\n"
      ],
      "execution_count": null,
      "outputs": [
        {
          "output_type": "execute_result",
          "data": {
            "text/plain": [
              "array([[ 1.        , -0.83421125, -0.4489713 ],\n",
              "       [-1.41187743,  0.76100036,  0.76552791],\n",
              "       [ 0.67015368, -0.05031783, -0.26206876],\n",
              "       [ 1.89567617, -1.65713055,  0.        ]])"
            ]
          },
          "metadata": {
            "tags": []
          },
          "execution_count": 86
        }
      ]
    },
    {
      "cell_type": "markdown",
      "metadata": {
        "id": "uGwJdaonJI5M",
        "colab_type": "text"
      },
      "source": [
        "* ndarray.resize(new shape, refcheck=True) Resize in-place\n",
        "* ndarray.reshape(shape, order=C) Return a view with a new shape ndarray.ravel(order=C) Return a flatten view\n",
        "* ndarray.flatten(order=C) Return a flatten copy\n",
        "* numpy.concatenate((a1, a2, ...), axis=0) Return a concatenation of arrays along an existing axis\n",
        "* numpy.stack((a1, a2, ...), axis=0) Return a stack of arrays along a new axis"
      ]
    },
    {
      "cell_type": "markdown",
      "metadata": {
        "id": "YstJg6BOJI5M",
        "colab_type": "text"
      },
      "source": [
        "## 1.7. Saving and loading data"
      ]
    },
    {
      "cell_type": "markdown",
      "metadata": {
        "id": "9-i0m2gMJI5M",
        "colab_type": "text"
      },
      "source": [
        "Load a npy or npz file: \n",
        "\n",
        "* numpy.load(file, mmap_mode=None, allow_pickle=True, fix_imports=True, encoding='ASCII')\n",
        "\n",
        "\n",
        "Load a txt file: \n",
        "* numpy.loadtxt(fname, dtype=<type 'float'>, comments='#', delimiter=None, converters=None, skiprows=0, usecols=None, unpack=False, ndmin=0)\n",
        "\n"
      ]
    },
    {
      "cell_type": "markdown",
      "metadata": {
        "id": "5KhbH2uYJI5M",
        "colab_type": "text"
      },
      "source": [
        "Save ONE array into a npy file: \n",
        "\n",
        "* numpy.save(file, arr, allow_pickle=True, fix_imports=True)\n",
        "\n",
        "\n",
        "\n",
        "Save many arrays into an npz file,\n",
        "\n",
        "* numpy.savez(file, *args, **kwds) \n",
        "\n",
        "save ONE array into a txt file: \n",
        "\n",
        "* numpy.savetxt(fname, X, fmt='%.18e', delimiter=' ', newline='\\n', header='', footer='', comments='# ')\n"
      ]
    },
    {
      "cell_type": "markdown",
      "metadata": {
        "id": "aJ5NTYZ9JI5M",
        "colab_type": "text"
      },
      "source": [
        "## 1.8. CVS reading \n",
        "\n",
        "The Python API provides the module CSV and the function reader() that can be used to load CSV files. Once loaded, you can convert to a numpy array and use it for machine learning.\n",
        "\n"
      ]
    },
    {
      "cell_type": "code",
      "metadata": {
        "id": "VkIUDjqrJvjM",
        "colab_type": "code",
        "colab": {
          "base_uri": "https://localhost:8080/",
          "height": 34
        },
        "outputId": "9e83250d-6122-47e4-d581-1f1826179c8d"
      },
      "source": [
        ""
      ],
      "execution_count": null,
      "outputs": [
        {
          "output_type": "stream",
          "text": [
            "Mounted at /content/gdrive\n"
          ],
          "name": "stdout"
        }
      ]
    },
    {
      "cell_type": "code",
      "metadata": {
        "id": "U33W1dhiKzKf",
        "colab_type": "code",
        "colab": {
          "base_uri": "https://localhost:8080/",
          "height": 51
        },
        "outputId": "7aaae83f-5b8a-4e55-c24d-86bb1a4cec31"
      },
      "source": [
        ""
      ],
      "execution_count": null,
      "outputs": [
        {
          "output_type": "stream",
          "text": [
            " babeldomains_babelnet.txt   imagenet_cca.zip\t   KR20-rebuttal.gdoc\n",
            "'Colab Notebooks'\t    'ISWC rebuttal.gdoc'\n"
          ],
          "name": "stdout"
        }
      ]
    },
    {
      "cell_type": "code",
      "metadata": {
        "id": "eGxo6rKOJI5M",
        "colab_type": "code",
        "colab": {
          "base_uri": "https://localhost:8080/",
          "height": 34
        },
        "outputId": "d5569324-ae3b-4849-ed1e-467ddb5cb01d"
      },
      "source": [
        "# Load CSV Using Python\n"
      ],
      "execution_count": null,
      "outputs": [
        {
          "output_type": "stream",
          "text": [
            "(151,)\n"
          ],
          "name": "stdout"
        }
      ]
    },
    {
      "cell_type": "markdown",
      "metadata": {
        "id": "AoKnsJcbJI5N",
        "colab_type": "text"
      },
      "source": [
        "You can load your CSV data using numpy and the numpy.loadtxt() por numpy.genfromtxt() functions. This functions assume no header row and all data has the same format.\n",
        "\n"
      ]
    },
    {
      "cell_type": "code",
      "metadata": {
        "id": "0OHL5kezJI5N",
        "colab_type": "code",
        "colab": {
          "base_uri": "https://localhost:8080/",
          "height": 34
        },
        "outputId": "628f497a-0a31-442d-b660-354703345968"
      },
      "source": [
        "# Load CSV using NumPy\n",
        "\n",
        "\n"
      ],
      "execution_count": null,
      "outputs": [
        {
          "output_type": "stream",
          "text": [
            "(150, 5)\n"
          ],
          "name": "stdout"
        }
      ]
    },
    {
      "cell_type": "markdown",
      "metadata": {
        "id": "lWLk7qdlJI5N",
        "colab_type": "text"
      },
      "source": [
        "## 1.9. Your turn"
      ]
    },
    {
      "cell_type": "markdown",
      "metadata": {
        "id": "kkQNxI-gJI5O",
        "colab_type": "text"
      },
      "source": [
        "Try to answer each following questions by a small snippet of code.\n",
        "\n",
        "1. How to reverse a vector (1d array) ?\n",
        "2. How to keep dimension consistency when slicing a matrix (2d array) ?\n",
        "3. How to create a (5,5) array with random values and find the extrema values ?\n",
        "4. With the help of broadcasting, how to produce a matrix A where A[i,j] = 2i + j ? (no for loop allowed)\n",
        "5. A is a (4,4) int array, I want to change the last element of A to 1.5 without loosing any information. How can I do it ?"
      ]
    }
  ]
}